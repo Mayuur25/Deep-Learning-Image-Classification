{
 "cells": [
  {
   "cell_type": "code",
   "execution_count": 69,
   "metadata": {
    "id": "Fs9K2MQTIyRV"
   },
   "outputs": [],
   "source": [
    "import math\n",
    "\n",
    "import numpy as np\n",
    "import torch\n",
    "import torch.nn as nn\n",
    "import torchvision.transforms as transforms\n",
    "from torch.hub import load_state_dict_from_url\n",
    "\n",
    "from PIL import Image\n",
    "import matplotlib.pyplot as plt\n",
    "\n",
    "import torchvision\n",
    "from torch import nn, optim\n",
    "from torchvision import transforms, datasets\n",
    "import matplotlib.pyplot as plt\n",
    "\n",
    "import os\n",
    "import pathlib\n",
    "import torch.nn.functional as F\n",
    "from PIL import Image\n",
    "from torch.utils.data import Dataset\n",
    "from typing import Tuple, Dict, List\n"
   ]
  },
  {
   "cell_type": "code",
   "execution_count": 2,
   "metadata": {
    "colab": {
     "base_uri": "https://localhost:8080/"
    },
    "id": "HKFZw7GvIyRW",
    "outputId": "8f34b0ee-990f-4568-a4c3-b40849d97e6a"
   },
   "outputs": [
    {
     "name": "stdout",
     "output_type": "stream",
     "text": [
      "1.13.1+cu116\n"
     ]
    }
   ],
   "source": [
    "# always check your version\n",
    "print(torch.__version__)"
   ]
  },
  {
   "cell_type": "markdown",
   "metadata": {
    "id": "PbLOhmDIIyRX"
   },
   "source": [
    "## 1 Function implementations\n",
    "\n"
   ]
  },
  {
   "cell_type": "markdown",
   "metadata": {
    "id": "Zc1vppJ1IyRX"
   },
   "source": [
    "### 1.1 Dataset class \n",
    "\n",
    "Write a PyTorch ```Dataset``` class (an example [here](https://www.askpython.com/python-modules/pytorch-custom-datasets) for reference) which loads the TinyImage30 dataset and ```DataLoaders``` for training and validation sets."
   ]
  },
  {
   "cell_type": "code",
   "execution_count": 70,
   "metadata": {
    "colab": {
     "base_uri": "https://localhost:8080/"
    },
    "id": "rpv_nsZUIyRX",
    "outputId": "d0c5ec96-b4a7-4638-dfc0-878bc86b862e"
   },
   "outputs": [
    {
     "name": "stdout",
     "output_type": "stream",
     "text": [
      "Drive already mounted at /content/drive; to attempt to forcibly remount, call drive.mount(\"/content/drive\", force_remount=True).\n",
      "Using device: cuda\n"
     ]
    }
   ],
   "source": [
    "# TO COMPLETE\n",
    "from google.colab import drive\n",
    "drive.mount('/content/drive')\n",
    "\n",
    "# Setup device agnostic code\n",
    "device = \"cuda\" if torch.cuda.is_available() else \"cpu\"\n",
    "print(f\"Using device: {device}\")"
   ]
  },
  {
   "cell_type": "code",
   "execution_count": 4,
   "metadata": {
    "colab": {
     "base_uri": "https://localhost:8080/"
    },
    "id": "3Pvo3cAfIyRY",
    "outputId": "f93902f4-9da4-4804-ae3a-cd58e9495016"
   },
   "outputs": [
    {
     "name": "stdout",
     "output_type": "stream",
     "text": [
      "Looking in indexes: https://pypi.org/simple, https://us-python.pkg.dev/colab-wheels/public/simple/\n",
      "Collecting split-folders[full]\n",
      "  Downloading split_folders-0.5.1-py3-none-any.whl (8.4 kB)\n",
      "Requirement already satisfied: tqdm in /usr/local/lib/python3.9/dist-packages (from split-folders[full]) (4.65.0)\n",
      "Installing collected packages: split-folders\n",
      "Successfully installed split-folders-0.5.1\n"
     ]
    }
   ],
   "source": [
    "pip install split-folders[full]"
   ]
  },
  {
   "cell_type": "code",
   "execution_count": null,
   "metadata": {
    "id": "GcMAu7n-IyRY"
   },
   "outputs": [],
   "source": [
    "import splitfolders\n",
    "input_folder = '/content/drive/MyDrive/DEEP LEARNING /train_set/train_set'\n",
    "splitfolders.ratio(input_folder, output='/content/drive/MyDrive/DEEP LEARNING /Train', seed=42, ratio=(.8,.2), group_prefix=None)"
   ]
  },
  {
   "cell_type": "code",
   "execution_count": 71,
   "metadata": {
    "id": "8xihANuQKZzA"
   },
   "outputs": [],
   "source": [
    "train = '/content/drive/MyDrive/DEEP LEARNING /Train/train'\n",
    "test_val = '/content/drive/MyDrive/DEEP LEARNING /Train/val'\n",
    "testing_set = \"/content/drive/MyDrive/DEEP LEARNING /test_set/test_set\"\n",
    "\n",
    "input_folder = '/content/drive/MyDrive/DEEP LEARNING /train_set/train_set'"
   ]
  },
  {
   "cell_type": "code",
   "execution_count": 72,
   "metadata": {
    "id": "AAAUrCISKk5i"
   },
   "outputs": [],
   "source": [
    "def names(directory):\n",
    "  # 1. Get the class names by scanning the target directory\n",
    "    class_names = sorted(entry.name for entry in os.scandir(directory) if entry.is_dir())\n",
    "    \n",
    "    # 2. Raise an error if class names not found\n",
    "    if not class_names:\n",
    "        raise FileNotFoundError(f\"Couldn't find any classes in {directory}.\")\n",
    "        \n",
    "    # 3. Crearte a dictionary of index labels (computers prefer numerical rather than string labels)\n",
    "    class_to_idx = {cls_name: i for i, cls_name in enumerate(class_names)}\n",
    "    return class_names,class_to_idx"
   ]
  },
  {
   "cell_type": "code",
   "execution_count": 73,
   "metadata": {
    "id": "8EF2evGKKlmo"
   },
   "outputs": [],
   "source": [
    "\n",
    "class imagefolder(Dataset):\n",
    "  def __init__(self, directory,transforms=None):\n",
    "\n",
    "\n",
    "    self.paths = list(pathlib.Path(directory).glob(\"*/*.JPEG\"))\n",
    "    self.transforms = transforms\n",
    "\n",
    "    self.classes , self.class_to_idx = names(directory)\n",
    "  \n",
    "  def __len__(self):\n",
    "    return len(self.paths)\n",
    "  \n",
    "  def __getitem__(self, index):\n",
    "    image_path = self.paths[index]\n",
    "    img = Image.open(image_path).convert(\"RGB\")\n",
    "    class_name = self.paths[index].parent.name\n",
    "    class_idx = self.class_to_idx[class_name]\n",
    "    img = self.transforms(img)\n",
    "    return img,class_idx"
   ]
  },
  {
   "cell_type": "code",
   "execution_count": 74,
   "metadata": {
    "id": "8TA0YnC0QDru"
   },
   "outputs": [],
   "source": [
    "transform = transforms.ToTensor()"
   ]
  },
  {
   "cell_type": "code",
   "execution_count": 75,
   "metadata": {
    "id": "XhH_DVsUKzDq"
   },
   "outputs": [],
   "source": [
    "train_set = imagefolder(train,transform)\n",
    "test_val_set = imagefolder(test_val,transform)\n",
    "#test_data = imagefolder(testing_set, val_transform)"
   ]
  },
  {
   "cell_type": "code",
   "execution_count": 76,
   "metadata": {
    "id": "Gx54sf5ZK2OC"
   },
   "outputs": [],
   "source": [
    "train_loader = torch.utils.data.DataLoader(\n",
    "    train_set,\n",
    "    batch_size=32,\n",
    "    shuffle=True,\n",
    "    num_workers=2\n",
    ")\n",
    "\n",
    "test_val_loader = torch.utils.data.DataLoader(\n",
    "    test_val_set,\n",
    "    batch_size=32, # Forward pass only so batch size can be larger\n",
    "    shuffle=False,\n",
    "    num_workers=2\n",
    ")\n",
    "\n",
    "test_loader = torch.utils.data.DataLoader(\n",
    "    testing_set,\n",
    "    batch_size=1, # Forward pass only so batch size can be larger\n",
    "    shuffle=False,\n",
    "    num_workers=2\n",
    ")"
   ]
  },
  {
   "cell_type": "markdown",
   "metadata": {
    "id": "yJn9RWC0IyRY"
   },
   "source": [
    "### 1.2 Define a MLP model class "
   ]
  },
  {
   "cell_type": "code",
   "execution_count": 132,
   "metadata": {
    "id": "u1n17aCXIyRY"
   },
   "outputs": [],
   "source": [
    "# TO COMPLETE\n",
    "# define a MLP Model class\n",
    "\n",
    "#New Model\n",
    "# Create a model with non-linear and linear layers\n",
    "class modelv1(nn.Module):\n",
    "    def __init__(self, input: int, output: int):\n",
    "        super().__init__()\n",
    "        self.layer_stack = nn.Sequential(\n",
    "            nn.Flatten(), # flatten inputs into single vector\n",
    "            nn.Linear(in_features=input, out_features=128),\n",
    "            nn.ReLU(),\n",
    "            nn.Linear(in_features=128, out_features=256),\n",
    "            nn.ReLU(),\n",
    "            nn.Linear(in_features=256, out_features=output),\n",
    "\n",
    "        )\n",
    "    \n",
    "    def forward(self, x):\n",
    "        return self.layer_stack(x)\n",
    "        \n",
    "model_2 =  modelv1(3*64*64,30)\n",
    "model_2.to(device)\n",
    "\n",
    "# Setup loss and optimizer\n",
    "loss_fn = nn.CrossEntropyLoss()\n",
    "optimizer = torch.optim.SGD(params=model_2.parameters(), \n",
    "                             lr=0.001)\n",
    "\n",
    "# Calculate accuracy (a classification metric)\n",
    "def accuracy_fn(y_true, y_pred):\n",
    "    correct = torch.eq(y_true, y_pred).sum().item() # torch.eq() calculates where two tensors are equal\n",
    "    acc = (correct / len(y_pred)) * 100 \n",
    "    return acc"
   ]
  },
  {
   "cell_type": "markdown",
   "metadata": {
    "id": "UjHRNyiPIyRY"
   },
   "source": [
    "### 1.3 Define a CNN model class "
   ]
  },
  {
   "cell_type": "code",
   "execution_count": 169,
   "metadata": {
    "id": "KwWgzBXILFtx"
   },
   "outputs": [],
   "source": [
    "## Create a convolutional neural network \n",
    "class CNNModel(nn.Module):\n",
    "   \n",
    "    def __init__(self, input_shape: int, output_shape: int):\n",
    "        super().__init__()\n",
    "        self.block_1 = nn.Sequential(\n",
    "            nn.Conv2d(input_shape,\n",
    "                      128,\n",
    "                      kernel_size=3, # how big is the square that's going over the image?\n",
    "                      stride=1, # default\n",
    "                      padding=2),# options = \"valid\" (no padding) or \"same\" (output has same shape as input) or int for specific number \n",
    "            nn.ReLU(),\n",
    "            nn.MaxPool2d(kernel_size=2),\n",
    "            #nn.Dropout(p=0.5),\n",
    "\n",
    "            nn.Conv2d(128,\n",
    "                      256,\n",
    "                      kernel_size=3,\n",
    "                      stride=1,\n",
    "                      padding=2),\n",
    "            nn.BatchNorm2d(256),         \n",
    "            nn.ReLU(),\n",
    "            nn.MaxPool2d(kernel_size=2,\n",
    "                         stride=2), # default stride value is same as kernel_size\n",
    "            #nn.Dropout(p=0.5) \n",
    "\n",
    "            nn.Conv2d(256,\n",
    "                      512,\n",
    "                      kernel_size=3,\n",
    "                      stride=1,\n",
    "                      padding=2),\n",
    "            nn.BatchNorm2d(512),         \n",
    "            nn.ReLU(),\n",
    "            nn.MaxPool2d(kernel_size=5,\n",
    "                         stride=2)   \n",
    "\n",
    "            \n",
    "            \n",
    "                     \n",
    "\n",
    "        )\n",
    "       \n",
    "        self.classifier = nn.Sequential(\n",
    "            nn.Flatten(),\n",
    "            # Where did this in_features shape come from? \n",
    "            # It's because each layer of our network compresses and changes the shape of our inputs data.\n",
    "            nn.Linear(in_features=32768, \n",
    "                      out_features=output_shape)\n",
    "        )\n",
    "    \n",
    "    def forward(self, x):\n",
    "       # x = self.block_1(x)\n",
    "        # print(x.shape)\n",
    "       # x = self.block_2(x)\n",
    "        # print(x.shape)\n",
    "       # x = self.classifier(x)\n",
    "        # print(x.shape)\n",
    "        return self.classifier(self.block_1(x))\n",
    "\n",
    "torch.manual_seed(42)\n",
    "model_3 = CNNModel(input_shape=3,\n",
    "    output_shape=30).to(device)\n",
    "model_3.to(device)\n",
    "\n",
    "#loss func\n",
    "# Setup loss and optimizer\n",
    "loss_fn = nn.CrossEntropyLoss()\n",
    "optimizer = torch.optim.SGD(params=model_3.parameters(), \n",
    "                             lr=0.001)"
   ]
  },
  {
   "cell_type": "markdown",
   "metadata": {
    "id": "qhlg9msVIyRY"
   },
   "source": [
    "## 2 Model training\n",
    "\n",
    "### Train both MLP and CNN models"
   ]
  },
  {
   "cell_type": "code",
   "execution_count": 170,
   "metadata": {
    "id": "F7JyzPI4IyRZ"
   },
   "outputs": [],
   "source": [
    "# compputer visionn train test function\n",
    "def train_step(model: torch.nn.Module,\n",
    "               data_loader,\n",
    "               loss_fn,\n",
    "               optimizer,\n",
    "               accuracy_fn):\n",
    "    train_loss, train_acc = 0, 0\n",
    "    for batch, (X, y) in enumerate(data_loader):\n",
    "        # Send data to GPU\n",
    "        X, y = X.to(device), y.to(device)\n",
    "\n",
    "        # 1. Forward pass\n",
    "        y_pred = model(X)\n",
    "\n",
    "        # 2. Calculate loss\n",
    "        loss = loss_fn(y_pred, y)\n",
    "        train_loss += loss\n",
    "        train_acc += accuracy_fn(y_true=y,\n",
    "                                 y_pred=y_pred.argmax(dim=1)) # Go from logits -> pred labels\n",
    "\n",
    "        # 3. Optimizer zero grad\n",
    "        optimizer.zero_grad()\n",
    "\n",
    "        # 4. Loss backward\n",
    "        loss.backward()\n",
    "\n",
    "        # 5. Optimizer step\n",
    "        optimizer.step()\n",
    "\n",
    "    # Calculate loss and accuracy per epoch and print out what's happening\n",
    "    train_loss /= len(data_loader)\n",
    "    train_acc /= len(data_loader)\n",
    "    print(f\"Train loss: {train_loss:.5f} | Train accuracy: {train_acc:.2f}\")\n",
    "    return train_loss, train_acc\n",
    "\n",
    "def test_step(data_loader: torch.utils.data.DataLoader,\n",
    "              model: torch.nn.Module,\n",
    "              loss_fn: torch.nn.Module,\n",
    "              accuracy_fn):\n",
    "            #  device: torch.device = device):\n",
    "    test_loss, test_acc = 0, 0\n",
    "    model.eval() # put model in eval mode\n",
    "    # Turn on inference context manager\n",
    "    with torch.inference_mode(): \n",
    "        for batch, (X, y) in enumerate(data_loader):\n",
    "            # Send data to GPU\n",
    "            X, y = X.to(device), y.to(device)\n",
    "            \n",
    "            # 1. Forward pass\n",
    "            test_pred = model(X)\n",
    "            \n",
    "            # 2. Calculate loss and accuracy\n",
    "            test_loss += loss_fn(test_pred, y)\n",
    "            test_acc += accuracy_fn(y_true=y,\n",
    "              y_pred=test_pred.argmax(dim=1) # Go from logits -> pred labels\n",
    "            )\n",
    "        \n",
    "        # Adjust metrics and print out\n",
    "        test_loss /= len(data_loader)\n",
    "        test_acc /= len(data_loader)\n",
    "\n",
    "        print(f\"Test loss: {test_loss:.5f} | Test accuracy: {test_acc:.2f}\\n\")\n",
    "        return test_loss, test_acc\n",
    "       "
   ]
  },
  {
   "cell_type": "code",
   "execution_count": 159,
   "metadata": {
    "colab": {
     "base_uri": "https://localhost:8080/"
    },
    "id": "ww1l9-PrvMHW",
    "outputId": "70510ec4-ae5d-4978-de4c-a8ec06353b73"
   },
   "outputs": [
    {
     "name": "stdout",
     "output_type": "stream",
     "text": [
      "Train loss: 3.21397 | Train accuracy: 12.87\n",
      "Test loss: 3.21126 | Test accuracy: 10.85\n",
      "\n",
      "Train loss: 3.18764 | Train accuracy: 13.17\n",
      "Test loss: 3.18599 | Test accuracy: 11.76\n",
      "\n",
      "Train loss: 3.16241 | Train accuracy: 13.49\n",
      "Test loss: 3.16467 | Test accuracy: 11.95\n",
      "\n",
      "Train loss: 3.14004 | Train accuracy: 13.57\n",
      "Test loss: 3.14457 | Test accuracy: 12.90\n",
      "\n",
      "Train loss: 3.11991 | Train accuracy: 13.78\n",
      "Test loss: 3.12519 | Test accuracy: 13.27\n",
      "\n",
      "Train loss: 3.10114 | Train accuracy: 14.19\n",
      "Test loss: 3.11075 | Test accuracy: 13.93\n",
      "\n",
      "Train loss: 3.08482 | Train accuracy: 14.78\n",
      "Test loss: 3.09508 | Test accuracy: 13.82\n",
      "\n",
      "Train loss: 3.06795 | Train accuracy: 15.16\n",
      "Test loss: 3.08193 | Test accuracy: 13.38\n",
      "\n",
      "Train loss: 3.05409 | Train accuracy: 15.12\n",
      "Test loss: 3.06719 | Test accuracy: 14.34\n",
      "\n",
      "Train loss: 3.04105 | Train accuracy: 15.48\n",
      "Test loss: 3.05507 | Test accuracy: 14.49\n",
      "\n",
      "Train loss: 3.02687 | Train accuracy: 15.97\n",
      "Test loss: 3.04218 | Test accuracy: 14.19\n",
      "\n",
      "Train loss: 3.01393 | Train accuracy: 16.33\n",
      "Test loss: 3.03225 | Test accuracy: 15.33\n",
      "\n",
      "Train loss: 3.00124 | Train accuracy: 16.51\n",
      "Test loss: 3.01897 | Test accuracy: 15.07\n",
      "\n",
      "Train loss: 2.98900 | Train accuracy: 16.87\n",
      "Test loss: 3.00961 | Test accuracy: 14.96\n",
      "\n",
      "Train loss: 2.97741 | Train accuracy: 17.02\n",
      "Test loss: 2.99919 | Test accuracy: 15.48\n",
      "\n",
      "Train loss: 2.96562 | Train accuracy: 17.30\n",
      "Test loss: 2.98952 | Test accuracy: 15.81\n",
      "\n",
      "Train loss: 2.95423 | Train accuracy: 17.56\n",
      "Test loss: 2.97823 | Test accuracy: 15.81\n",
      "\n",
      "Train loss: 2.94348 | Train accuracy: 17.68\n",
      "Test loss: 2.97084 | Test accuracy: 16.51\n",
      "\n",
      "Train loss: 2.93325 | Train accuracy: 17.94\n",
      "Test loss: 2.96087 | Test accuracy: 16.10\n",
      "\n",
      "Train loss: 2.92337 | Train accuracy: 18.29\n",
      "Test loss: 2.95420 | Test accuracy: 15.77\n",
      "\n"
     ]
    }
   ],
   "source": [
    "import tqdm\n",
    "results={\"train_loss\": [],\n",
    "        \"train_acc\": [],\n",
    "        \"test_loss\": [],\n",
    "        \"test_acc\": [],\n",
    "        \"Epoch\":[],\n",
    "    }\n",
    "    \n",
    "epochs =20\n",
    "    # 3. Loop through training and testing steps for a number of epochs\n",
    "for epoch in range(epochs):\n",
    "  train_loss, train_acc = train_step(model=model_2,\n",
    "                                           data_loader=train_loader,\n",
    "                                           loss_fn=loss_fn,\n",
    "                                           optimizer=optimizer,\n",
    "                                           accuracy_fn= accuracy_fn)\n",
    "  test_loss, test_acc = test_step(model=model_2,\n",
    "            data_loader=test_val_loader,\n",
    "            loss_fn=loss_fn,\n",
    "            accuracy_fn = accuracy_fn)\n",
    "        \n",
    "     \n",
    "        # 5. Update results dictionary\n",
    "  results[\"train_loss\"].append(train_loss)\n",
    "  results[\"train_acc\"].append(train_acc)\n",
    "  results[\"test_loss\"].append(test_loss)\n",
    "  results[\"test_acc\"].append(test_acc)\n",
    "  results[\"Epoch\"].append(epoch)"
   ]
  },
  {
   "cell_type": "code",
   "execution_count": 166,
   "metadata": {
    "id": "nr5wGG9-35lJ"
   },
   "outputs": [],
   "source": [
    "li={\"train_loss\": [],\n",
    "      \"test_loss\": [],  \n",
    "    }\n",
    "for i in results[\"train_loss\"]:\n",
    "  li[\"train_loss\"].append(i.cpu().detach())\n",
    " \n",
    "\n",
    "for i in results[\"test_loss\"]:\n",
    "  li[\"test_loss\"].append(i.cpu())\n"
   ]
  },
  {
   "cell_type": "code",
   "execution_count": 167,
   "metadata": {
    "colab": {
     "base_uri": "https://localhost:8080/",
     "height": 458
    },
    "id": "aBxpHyKB5r1X",
    "outputId": "185f6e3d-4407-4fd8-b9ae-727eef3134ec"
   },
   "outputs": [
    {
     "data": {
      "image/png": "[encoded data removed]",
      "text/plain": [
       "<Figure size 1080x504 with 2 Axes>"
      ]
     },
     "metadata": {
      "needs_background": "light"
     },
     "output_type": "display_data"
    }
   ],
   "source": [
    "import numpy as np\n",
    "plt.figure(figsize=(15, 7))\n",
    "\n",
    "    # Plot loss\n",
    "plt.subplot(1, 2, 1)\n",
    "plt.plot(results[\"Epoch\"],li[\"train_loss\"], label='train_loss')\n",
    "plt.plot(results[\"Epoch\"], li[\"test_loss\"], label='test_loss')\n",
    "plt.title('Loss')\n",
    "plt.xlabel('Epochs')\n",
    "plt.legend()\n",
    "\n",
    "    # Plot accuracy\n",
    "plt.subplot(1, 2, 2)\n",
    "plt.plot(results[\"Epoch\"], results[\"train_acc\"], label='train_accuracy')\n",
    "plt.plot(results[\"Epoch\"], results[\"test_acc\"], label='test_accuracy')\n",
    "plt.title('Accuracy')\n",
    "plt.xlabel('Epochs')\n",
    "plt.legend();"
   ]
  },
  {
   "cell_type": "code",
   "execution_count": null,
   "metadata": {
    "id": "FNqUDuEDIyRZ"
   },
   "outputs": [],
   "source": [
    "# Define top-*k* accuracy \n",
    "def topk_accuracy(output, target, topk=(1,)):\n",
    "    \"\"\"Computes the precision@k for the specified values of k\"\"\"\n",
    "    maxk = max(topk)\n",
    "    batch_size = target.size(0)\n",
    "    _, pred = output.topk(maxk, 1, True, True)\n",
    "    pred = pred.t()\n",
    "    correct = pred.eq(target.view(1, -1).expand_as(pred))\n",
    "\n",
    "    res = []\n",
    "    for k in topk:\n",
    "        correct_k = correct[:k].view(-1).float().sum(0)\n",
    "        res.append(correct_k.mul_(100.0 / batch_size))\n",
    "    return res"
   ]
  },
  {
   "cell_type": "code",
   "execution_count": null,
   "metadata": {
    "id": "6x2dlpd6IyRZ"
   },
   "outputs": [],
   "source": [
    "#TO COMPLETE --> Running you MLP model class\n",
    "# Train and test model \n",
    "epochs = 100\n",
    "for epoch in (range(epochs)):\n",
    "    print(f\"Epoch: {epoch}\\n---------\")\n",
    "    train_step(data_loader=train_loader, \n",
    "        model=model_2, \n",
    "        loss_fn=loss_fn,\n",
    "        optimizer=optimizer,\n",
    "        accuracy_fn=accuracy_fn\n",
    "    )\n",
    "    test_step(data_loader=test_val_loader,\n",
    "        model=model_2,\n",
    "        loss_fn=loss_fn,\n",
    "        accuracy_fn=accuracy_fn\n",
    "    )"
   ]
  },
  {
   "cell_type": "code",
   "execution_count": 173,
   "metadata": {
    "colab": {
     "base_uri": "https://localhost:8080/"
    },
    "id": "dW9UsckwIyRZ",
    "outputId": "a4187bfd-7f7d-46dc-a098-6978d983ad05"
   },
   "outputs": [
    {
     "name": "stdout",
     "output_type": "stream",
     "text": [
      "Epoch: 0\n",
      "---------\n"
     ]
    },
    {
     "name": "stderr",
     "output_type": "stream",
     "text": [
      "Exception ignored in: <function _MultiProcessingDataLoaderIter.__del__ at 0x7ffba0368280>\n",
      "Traceback (most recent call last):\n",
      "  File \"/usr/local/lib/python3.9/dist-packages/torch/utils/data/dataloader.py\", line 1466, in __del__\n",
      "    self._shutdown_workers()\n",
      "  File \"/usr/local/lib/python3.9/dist-packages/torch/utils/data/dataloader.py\", line 1449, in _shutdown_workers\n",
      "    if w.is_alive():\n",
      "  File \"/usr/lib/python3.9/multiprocessing/process.py\", line 160, in is_alive\n",
      "    assert self._parent_pid == os.getpid(), 'can only test a child process'\n",
      "AssertionError: can only test a child process\n",
      "Exception ignored in: <function _MultiProcessingDataLoaderIter.__del__ at 0x7ffba0368280>\n",
      "Traceback (most recent call last):\n",
      "  File \"/usr/local/lib/python3.9/dist-packages/torch/utils/data/dataloader.py\", line 1466, in __del__\n",
      "    self._shutdown_workers()\n",
      "  File \"/usr/local/lib/python3.9/dist-packages/torch/utils/data/dataloader.py\", line 1449, in _shutdown_workers\n",
      "    if w.is_alive():\n",
      "  File \"/usr/lib/python3.9/multiprocessing/process.py\", line 160, in is_alive\n",
      "    assert self._parent_pid == os.getpid(), 'can only test a child process'\n",
      "AssertionError: can only test a child process\n"
     ]
    },
    {
     "name": "stdout",
     "output_type": "stream",
     "text": [
      "Train loss: 1.20134 | Train accuracy: 65.29\n"
     ]
    },
    {
     "name": "stderr",
     "output_type": "stream",
     "text": [
      "Exception ignored in: <function _MultiProcessingDataLoaderIter.__del__ at 0x7ffba0368280>\n",
      "Traceback (most recent call last):\n",
      "  File \"/usr/local/lib/python3.9/dist-packages/torch/utils/data/dataloader.py\", line 1466, in __del__\n",
      "    self._shutdown_workers()\n",
      "  File \"/usr/local/lib/python3.9/dist-packages/torch/utils/data/dataloader.py\", line 1449, in _shutdown_workers\n",
      "    Exception ignored in: if w.is_alive():\n",
      "<function _MultiProcessingDataLoaderIter.__del__ at 0x7ffba0368280>\n",
      "  File \"/usr/lib/python3.9/multiprocessing/process.py\", line 160, in is_alive\n",
      "Traceback (most recent call last):\n",
      "      File \"/usr/local/lib/python3.9/dist-packages/torch/utils/data/dataloader.py\", line 1466, in __del__\n",
      "assert self._parent_pid == os.getpid(), 'can only test a child process'\n",
      "AssertionError:     can only test a child processself._shutdown_workers()\n",
      "\n",
      "  File \"/usr/local/lib/python3.9/dist-packages/torch/utils/data/dataloader.py\", line 1449, in _shutdown_workers\n",
      "    if w.is_alive():\n",
      "  File \"/usr/lib/python3.9/multiprocessing/process.py\", line 160, in is_alive\n",
      "    assert self._parent_pid == os.getpid(), 'can only test a child process'\n",
      "AssertionError: can only test a child process\n"
     ]
    },
    {
     "name": "stdout",
     "output_type": "stream",
     "text": [
      "Test loss: 1.98083 | Test accuracy: 45.66\n",
      "\n",
      "Epoch: 1\n",
      "---------\n"
     ]
    },
    {
     "name": "stderr",
     "output_type": "stream",
     "text": [
      "Exception ignored in: <function _MultiProcessingDataLoaderIter.__del__ at 0x7ffba0368280>\n",
      "Traceback (most recent call last):\n",
      "  File \"/usr/local/lib/python3.9/dist-packages/torch/utils/data/dataloader.py\", line 1466, in __del__\n",
      "    self._shutdown_workers()\n",
      "  File \"/usr/local/lib/python3.9/dist-packages/torch/utils/data/dataloader.py\", line 1449, in _shutdown_workers\n",
      "    if w.is_alive():\n",
      "  File \"/usr/lib/python3.9/multiprocessing/process.py\", line 160, in is_alive\n",
      "    assert self._parent_pid == os.getpid(), 'can only test a child process'\n",
      "AssertionError: can only test a child process\n",
      "Exception ignored in: <function _MultiProcessingDataLoaderIter.__del__ at 0x7ffba0368280>\n",
      "Traceback (most recent call last):\n",
      "  File \"/usr/local/lib/python3.9/dist-packages/torch/utils/data/dataloader.py\", line 1466, in __del__\n",
      "    self._shutdown_workers()\n",
      "  File \"/usr/local/lib/python3.9/dist-packages/torch/utils/data/dataloader.py\", line 1449, in _shutdown_workers\n",
      "    if w.is_alive():\n",
      "  File \"/usr/lib/python3.9/multiprocessing/process.py\", line 160, in is_alive\n",
      "    assert self._parent_pid == os.getpid(), 'can only test a child process'\n",
      "AssertionError: can only test a child process\n"
     ]
    },
    {
     "name": "stdout",
     "output_type": "stream",
     "text": [
      "Train loss: 1.12074 | Train accuracy: 67.17\n"
     ]
    },
    {
     "name": "stderr",
     "output_type": "stream",
     "text": [
      "Exception ignored in: <function _MultiProcessingDataLoaderIter.__del__ at 0x7ffba0368280>\n",
      "Traceback (most recent call last):\n",
      "  File \"/usr/local/lib/python3.9/dist-packages/torch/utils/data/dataloader.py\", line 1466, in __del__\n",
      "    self._shutdown_workers()\n",
      "  File \"/usr/local/lib/python3.9/dist-packages/torch/utils/data/dataloader.py\", line 1449, in _shutdown_workers\n",
      "    if w.is_alive():\n",
      "  File \"/usr/lib/python3.9/multiprocessing/process.py\", line 160, in is_alive\n",
      "    assert self._parent_pid == os.getpid(), 'can only test a child process'\n",
      "AssertionError: can only test a child process\n",
      "Exception ignored in: <function _MultiProcessingDataLoaderIter.__del__ at 0x7ffba0368280>\n",
      "Traceback (most recent call last):\n",
      "  File \"/usr/local/lib/python3.9/dist-packages/torch/utils/data/dataloader.py\", line 1466, in __del__\n",
      "self._shutdown_workers()    \n",
      "  File \"/usr/local/lib/python3.9/dist-packages/torch/utils/data/dataloader.py\", line 1449, in _shutdown_workers\n",
      "    if w.is_alive():\n",
      "  File \"/usr/lib/python3.9/multiprocessing/process.py\", line 160, in is_alive\n",
      "    assert self._parent_pid == os.getpid(), 'can only test a child process'\n",
      "AssertionError: can only test a child process\n"
     ]
    },
    {
     "name": "stdout",
     "output_type": "stream",
     "text": [
      "Test loss: 1.89593 | Test accuracy: 47.32\n",
      "\n",
      "Epoch: 2\n",
      "---------\n"
     ]
    },
    {
     "name": "stderr",
     "output_type": "stream",
     "text": [
      "Exception ignored in: <function _MultiProcessingDataLoaderIter.__del__ at 0x7ffba0368280>\n",
      "Traceback (most recent call last):\n",
      "  File \"/usr/local/lib/python3.9/dist-packages/torch/utils/data/dataloader.py\", line 1466, in __del__\n",
      "    self._shutdown_workers()\n",
      "  File \"/usr/local/lib/python3.9/dist-packages/torch/utils/data/dataloader.py\", line 1449, in _shutdown_workers\n",
      "    if w.is_alive():\n",
      "  File \"/usr/lib/python3.9/multiprocessing/process.py\", line 160, in is_alive\n",
      "    assert self._parent_pid == os.getpid(), 'can only test a child process'\n",
      "AssertionError: can only test a child process\n",
      "Exception ignored in: <function _MultiProcessingDataLoaderIter.__del__ at 0x7ffba0368280>\n",
      "Traceback (most recent call last):\n",
      "  File \"/usr/local/lib/python3.9/dist-packages/torch/utils/data/dataloader.py\", line 1466, in __del__\n",
      "    self._shutdown_workers()\n",
      "  File \"/usr/local/lib/python3.9/dist-packages/torch/utils/data/dataloader.py\", line 1449, in _shutdown_workers\n",
      "    if w.is_alive():\n",
      "  File \"/usr/lib/python3.9/multiprocessing/process.py\", line 160, in is_alive\n",
      "    assert self._parent_pid == os.getpid(), 'can only test a child process'\n",
      "AssertionError: can only test a child process\n"
     ]
    },
    {
     "name": "stdout",
     "output_type": "stream",
     "text": [
      "Train loss: 1.03010 | Train accuracy: 69.95\n"
     ]
    },
    {
     "name": "stderr",
     "output_type": "stream",
     "text": [
      "Exception ignored in: <function _MultiProcessingDataLoaderIter.__del__ at 0x7ffba0368280>\n",
      "Traceback (most recent call last):\n",
      "  File \"/usr/local/lib/python3.9/dist-packages/torch/utils/data/dataloader.py\", line 1466, in __del__\n",
      "    self._shutdown_workers()\n",
      "  File \"/usr/local/lib/python3.9/dist-packages/torch/utils/data/dataloader.py\", line 1449, in _shutdown_workers\n",
      "    if w.is_alive():\n",
      "  File \"/usr/lib/python3.9/multiprocessing/process.py\", line 160, in is_alive\n",
      "    assert self._parent_pid == os.getpid(), 'can only test a child process'\n",
      "Exception ignored in: <function _MultiProcessingDataLoaderIter.__del__ at 0x7ffba0368280>AssertionError\n",
      "Traceback (most recent call last):\n",
      "  File \"/usr/local/lib/python3.9/dist-packages/torch/utils/data/dataloader.py\", line 1466, in __del__\n",
      ":     self._shutdown_workers()\n",
      "can only test a child process\n",
      "  File \"/usr/local/lib/python3.9/dist-packages/torch/utils/data/dataloader.py\", line 1449, in _shutdown_workers\n",
      "    if w.is_alive():\n",
      "  File \"/usr/lib/python3.9/multiprocessing/process.py\", line 160, in is_alive\n",
      "    assert self._parent_pid == os.getpid(), 'can only test a child process'\n",
      "AssertionError: can only test a child process\n"
     ]
    },
    {
     "name": "stdout",
     "output_type": "stream",
     "text": [
      "Test loss: 1.81495 | Test accuracy: 49.07\n",
      "\n",
      "Epoch: 3\n",
      "---------\n"
     ]
    },
    {
     "name": "stderr",
     "output_type": "stream",
     "text": [
      "Exception ignored in: <function _MultiProcessingDataLoaderIter.__del__ at 0x7ffba0368280>\n",
      "Traceback (most recent call last):\n",
      "  File \"/usr/local/lib/python3.9/dist-packages/torch/utils/data/dataloader.py\", line 1466, in __del__\n",
      "    self._shutdown_workers()\n",
      "  File \"/usr/local/lib/python3.9/dist-packages/torch/utils/data/dataloader.py\", line 1449, in _shutdown_workers\n",
      "    if w.is_alive():\n",
      "  File \"/usr/lib/python3.9/multiprocessing/process.py\", line 160, in is_alive\n",
      "    assert self._parent_pid == os.getpid(), 'can only test a child process'\n",
      "AssertionErrorException ignored in: <function _MultiProcessingDataLoaderIter.__del__ at 0x7ffba0368280>\n",
      "Traceback (most recent call last):\n",
      "  File \"/usr/local/lib/python3.9/dist-packages/torch/utils/data/dataloader.py\", line 1466, in __del__\n",
      "    self._shutdown_workers(): \n",
      "  File \"/usr/local/lib/python3.9/dist-packages/torch/utils/data/dataloader.py\", line 1449, in _shutdown_workers\n",
      "    if w.is_alive():can only test a child process\n",
      "  File \"/usr/lib/python3.9/multiprocessing/process.py\", line 160, in is_alive\n",
      "    assert self._parent_pid == os.getpid(), 'can only test a child process'\n",
      "\n",
      "AssertionError: can only test a child process\n"
     ]
    },
    {
     "name": "stdout",
     "output_type": "stream",
     "text": [
      "Train loss: 0.95881 | Train accuracy: 72.24\n"
     ]
    },
    {
     "name": "stderr",
     "output_type": "stream",
     "text": [
      "Exception ignored in: <function _MultiProcessingDataLoaderIter.__del__ at 0x7ffba0368280>\n",
      "Traceback (most recent call last):\n",
      "  File \"/usr/local/lib/python3.9/dist-packages/torch/utils/data/dataloader.py\", line 1466, in __del__\n",
      "    self._shutdown_workers()\n",
      "  File \"/usr/local/lib/python3.9/dist-packages/torch/utils/data/dataloader.py\", line 1449, in _shutdown_workers\n",
      "    if w.is_alive():\n",
      "Exception ignored in:   File \"/usr/lib/python3.9/multiprocessing/process.py\", line 160, in is_alive\n",
      "<function _MultiProcessingDataLoaderIter.__del__ at 0x7ffba0368280>\n",
      "    Traceback (most recent call last):\n",
      "assert self._parent_pid == os.getpid(), 'can only test a child process'  File \"/usr/local/lib/python3.9/dist-packages/torch/utils/data/dataloader.py\", line 1466, in __del__\n",
      "\n",
      "AssertionError    : self._shutdown_workers()\n",
      "can only test a child process  File \"/usr/local/lib/python3.9/dist-packages/torch/utils/data/dataloader.py\", line 1449, in _shutdown_workers\n",
      "\n",
      "    if w.is_alive():\n",
      "  File \"/usr/lib/python3.9/multiprocessing/process.py\", line 160, in is_alive\n",
      "    assert self._parent_pid == os.getpid(), 'can only test a child process'\n",
      ": AssertionErrorcan only test a child process\n"
     ]
    },
    {
     "name": "stdout",
     "output_type": "stream",
     "text": [
      "Test loss: 1.92751 | Test accuracy: 47.28\n",
      "\n",
      "Epoch: 4\n",
      "---------\n"
     ]
    },
    {
     "name": "stderr",
     "output_type": "stream",
     "text": [
      "Exception ignored in: <function _MultiProcessingDataLoaderIter.__del__ at 0x7ffba0368280>\n",
      "Traceback (most recent call last):\n",
      "  File \"/usr/local/lib/python3.9/dist-packages/torch/utils/data/dataloader.py\", line 1466, in __del__\n",
      "    self._shutdown_workers()\n",
      "  File \"/usr/local/lib/python3.9/dist-packages/torch/utils/data/dataloader.py\", line 1449, in _shutdown_workers\n",
      "    if w.is_alive():\n",
      "  File \"/usr/lib/python3.9/multiprocessing/process.py\", line 160, in is_alive\n",
      "    assert self._parent_pid == os.getpid(), 'can only test a child process'\n",
      "AssertionError: can only test a child process\n",
      "Exception ignored in: <function _MultiProcessingDataLoaderIter.__del__ at 0x7ffba0368280>\n",
      "Traceback (most recent call last):\n",
      "  File \"/usr/local/lib/python3.9/dist-packages/torch/utils/data/dataloader.py\", line 1466, in __del__\n",
      "    self._shutdown_workers()\n",
      "  File \"/usr/local/lib/python3.9/dist-packages/torch/utils/data/dataloader.py\", line 1449, in _shutdown_workers\n",
      "    if w.is_alive():\n",
      "  File \"/usr/lib/python3.9/multiprocessing/process.py\", line 160, in is_alive\n",
      "    assert self._parent_pid == os.getpid(), 'can only test a child process'\n",
      "AssertionError: can only test a child process\n"
     ]
    },
    {
     "name": "stdout",
     "output_type": "stream",
     "text": [
      "Train loss: 0.87510 | Train accuracy: 74.34\n"
     ]
    },
    {
     "name": "stderr",
     "output_type": "stream",
     "text": [
      "Exception ignored in: <function _MultiProcessingDataLoaderIter.__del__ at 0x7ffba0368280>\n",
      "Traceback (most recent call last):\n",
      "  File \"/usr/local/lib/python3.9/dist-packages/torch/utils/data/dataloader.py\", line 1466, in __del__\n",
      "    self._shutdown_workers()\n",
      "  File \"/usr/local/lib/python3.9/dist-packages/torch/utils/data/dataloader.py\", line 1449, in _shutdown_workers\n",
      "    if w.is_alive():\n",
      "  File \"/usr/lib/python3.9/multiprocessing/process.py\", line 160, in is_alive\n",
      "    assert self._parent_pid == os.getpid(), 'can only test a child process'\n",
      "AssertionError: can only test a child process\n",
      "Exception ignored in: <function _MultiProcessingDataLoaderIter.__del__ at 0x7ffba0368280>\n",
      "Traceback (most recent call last):\n",
      "  File \"/usr/local/lib/python3.9/dist-packages/torch/utils/data/dataloader.py\", line 1466, in __del__\n",
      "    self._shutdown_workers()\n",
      "  File \"/usr/local/lib/python3.9/dist-packages/torch/utils/data/dataloader.py\", line 1449, in _shutdown_workers\n",
      "    if w.is_alive():\n",
      "  File \"/usr/lib/python3.9/multiprocessing/process.py\", line 160, in is_alive\n",
      "    assert self._parent_pid == os.getpid(), 'can only test a child process'\n",
      "AssertionError: can only test a child process\n"
     ]
    },
    {
     "name": "stdout",
     "output_type": "stream",
     "text": [
      "Test loss: 1.89661 | Test accuracy: 49.14\n",
      "\n",
      "Epoch: 5\n",
      "---------\n"
     ]
    },
    {
     "name": "stderr",
     "output_type": "stream",
     "text": [
      "Exception ignored in: <function _MultiProcessingDataLoaderIter.__del__ at 0x7ffba0368280>\n",
      "Traceback (most recent call last):\n",
      "  File \"/usr/local/lib/python3.9/dist-packages/torch/utils/data/dataloader.py\", line 1466, in __del__\n",
      "    self._shutdown_workers()\n",
      "  File \"/usr/local/lib/python3.9/dist-packages/torch/utils/data/dataloader.py\", line 1449, in _shutdown_workers\n",
      "    if w.is_alive():\n",
      "      File \"/usr/lib/python3.9/multiprocessing/process.py\", line 160, in is_alive\n",
      "assert self._parent_pid == os.getpid(), 'can only test a child process'\n",
      "AssertionError: can only test a child process\n",
      "Exception ignored in: <function _MultiProcessingDataLoaderIter.__del__ at 0x7ffba0368280>\n",
      "Traceback (most recent call last):\n",
      "  File \"/usr/local/lib/python3.9/dist-packages/torch/utils/data/dataloader.py\", line 1466, in __del__\n",
      "    self._shutdown_workers()\n",
      "  File \"/usr/local/lib/python3.9/dist-packages/torch/utils/data/dataloader.py\", line 1449, in _shutdown_workers\n",
      "    if w.is_alive():\n",
      "  File \"/usr/lib/python3.9/multiprocessing/process.py\", line 160, in is_alive\n",
      "    assert self._parent_pid == os.getpid(), 'can only test a child process'\n",
      "AssertionError: can only test a child process\n"
     ]
    },
    {
     "name": "stdout",
     "output_type": "stream",
     "text": [
      "Train loss: 0.80189 | Train accuracy: 76.79\n"
     ]
    },
    {
     "name": "stderr",
     "output_type": "stream",
     "text": [
      "Exception ignored in: <function _MultiProcessingDataLoaderIter.__del__ at 0x7ffba0368280>\n",
      "Traceback (most recent call last):\n",
      "  File \"/usr/local/lib/python3.9/dist-packages/torch/utils/data/dataloader.py\", line 1466, in __del__\n",
      "    self._shutdown_workers()\n",
      "  File \"/usr/local/lib/python3.9/dist-packages/torch/utils/data/dataloader.py\", line 1449, in _shutdown_workers\n",
      "    if w.is_alive():\n",
      "Exception ignored in:   File \"/usr/lib/python3.9/multiprocessing/process.py\", line 160, in is_alive\n",
      "    <function _MultiProcessingDataLoaderIter.__del__ at 0x7ffba0368280>assert self._parent_pid == os.getpid(), 'can only test a child process'\n",
      "\n",
      "Traceback (most recent call last):\n",
      "  File \"/usr/local/lib/python3.9/dist-packages/torch/utils/data/dataloader.py\", line 1466, in __del__\n",
      "AssertionError: can only test a child process\n",
      "    self._shutdown_workers()\n",
      "  File \"/usr/local/lib/python3.9/dist-packages/torch/utils/data/dataloader.py\", line 1449, in _shutdown_workers\n",
      "    if w.is_alive():\n",
      "  File \"/usr/lib/python3.9/multiprocessing/process.py\", line 160, in is_alive\n",
      "    assert self._parent_pid == os.getpid(), 'can only test a child process'\n",
      "AssertionError: can only test a child process\n"
     ]
    },
    {
     "name": "stdout",
     "output_type": "stream",
     "text": [
      "Test loss: 2.29606 | Test accuracy: 40.86\n",
      "\n",
      "Epoch: 6\n",
      "---------\n"
     ]
    },
    {
     "name": "stderr",
     "output_type": "stream",
     "text": [
      "Exception ignored in: <function _MultiProcessingDataLoaderIter.__del__ at 0x7ffba0368280>\n",
      "Traceback (most recent call last):\n",
      "  File \"/usr/local/lib/python3.9/dist-packages/torch/utils/data/dataloader.py\", line 1466, in __del__\n",
      "    self._shutdown_workers()\n",
      "  File \"/usr/local/lib/python3.9/dist-packages/torch/utils/data/dataloader.py\", line 1449, in _shutdown_workers\n",
      "    if w.is_alive():\n",
      "  File \"/usr/lib/python3.9/multiprocessing/process.py\", line 160, in is_alive\n",
      "    assert self._parent_pid == os.getpid(), 'can only test a child process'\n",
      "AssertionError: can only test a child process\n",
      "Exception ignored in: <function _MultiProcessingDataLoaderIter.__del__ at 0x7ffba0368280>\n",
      "Traceback (most recent call last):\n",
      "  File \"/usr/local/lib/python3.9/dist-packages/torch/utils/data/dataloader.py\", line 1466, in __del__\n",
      "    self._shutdown_workers()\n",
      "  File \"/usr/local/lib/python3.9/dist-packages/torch/utils/data/dataloader.py\", line 1449, in _shutdown_workers\n",
      "    if w.is_alive():\n",
      "  File \"/usr/lib/python3.9/multiprocessing/process.py\", line 160, in is_alive\n",
      "    assert self._parent_pid == os.getpid(), 'can only test a child process'\n",
      "AssertionError: can only test a child process\n"
     ]
    },
    {
     "name": "stdout",
     "output_type": "stream",
     "text": [
      "Train loss: 0.73021 | Train accuracy: 78.97\n"
     ]
    },
    {
     "name": "stderr",
     "output_type": "stream",
     "text": [
      "Exception ignored in: <function _MultiProcessingDataLoaderIter.__del__ at 0x7ffba0368280>\n",
      "Traceback (most recent call last):\n",
      "  File \"/usr/local/lib/python3.9/dist-packages/torch/utils/data/dataloader.py\", line 1466, in __del__\n",
      "    self._shutdown_workers()\n",
      "  File \"/usr/local/lib/python3.9/dist-packages/torch/utils/data/dataloader.py\", line 1449, in _shutdown_workers\n",
      "    if w.is_alive():\n",
      "  File \"/usr/lib/python3.9/multiprocessing/process.py\", line 160, in is_alive\n",
      "    assert self._parent_pid == os.getpid(), 'can only test a child process'\n",
      "AssertionError: can only test a child process\n",
      "Exception ignored in: <function _MultiProcessingDataLoaderIter.__del__ at 0x7ffba0368280>\n",
      "Traceback (most recent call last):\n",
      "  File \"/usr/local/lib/python3.9/dist-packages/torch/utils/data/dataloader.py\", line 1466, in __del__\n",
      "    self._shutdown_workers()\n",
      "  File \"/usr/local/lib/python3.9/dist-packages/torch/utils/data/dataloader.py\", line 1449, in _shutdown_workers\n",
      "    if w.is_alive():\n",
      "  File \"/usr/lib/python3.9/multiprocessing/process.py\", line 160, in is_alive\n",
      "    assert self._parent_pid == os.getpid(), 'can only test a child process'\n",
      "AssertionError: can only test a child process\n"
     ]
    },
    {
     "name": "stdout",
     "output_type": "stream",
     "text": [
      "Test loss: 1.93484 | Test accuracy: 48.70\n",
      "\n",
      "Epoch: 7\n",
      "---------\n"
     ]
    },
    {
     "name": "stderr",
     "output_type": "stream",
     "text": [
      "Exception ignored in: <function _MultiProcessingDataLoaderIter.__del__ at 0x7ffba0368280>\n",
      "Traceback (most recent call last):\n",
      "  File \"/usr/local/lib/python3.9/dist-packages/torch/utils/data/dataloader.py\", line 1466, in __del__\n",
      "    self._shutdown_workers()\n",
      "  File \"/usr/local/lib/python3.9/dist-packages/torch/utils/data/dataloader.py\", line 1449, in _shutdown_workers\n",
      "    if w.is_alive():\n",
      "Exception ignored in: <function _MultiProcessingDataLoaderIter.__del__ at 0x7ffba0368280>\n",
      "Traceback (most recent call last):\n",
      "  File \"/usr/lib/python3.9/multiprocessing/process.py\", line 160, in is_alive\n",
      "  File \"/usr/local/lib/python3.9/dist-packages/torch/utils/data/dataloader.py\", line 1466, in __del__\n",
      "    self._shutdown_workers()\n",
      "  File \"/usr/local/lib/python3.9/dist-packages/torch/utils/data/dataloader.py\", line 1449, in _shutdown_workers\n",
      "        if w.is_alive():\n",
      "assert self._parent_pid == os.getpid(), 'can only test a child process'  File \"/usr/lib/python3.9/multiprocessing/process.py\", line 160, in is_alive\n",
      "\n",
      "    AssertionError: can only test a child process\n",
      "assert self._parent_pid == os.getpid(), 'can only test a child process'\n",
      "AssertionError: can only test a child process\n"
     ]
    },
    {
     "name": "stdout",
     "output_type": "stream",
     "text": [
      "Train loss: 0.66307 | Train accuracy: 81.17\n"
     ]
    },
    {
     "name": "stderr",
     "output_type": "stream",
     "text": [
      "Exception ignored in: <function _MultiProcessingDataLoaderIter.__del__ at 0x7ffba0368280>\n",
      "Traceback (most recent call last):\n",
      "  File \"/usr/local/lib/python3.9/dist-packages/torch/utils/data/dataloader.py\", line 1466, in __del__\n",
      "    self._shutdown_workers()\n",
      "  File \"/usr/local/lib/python3.9/dist-packages/torch/utils/data/dataloader.py\", line 1449, in _shutdown_workers\n",
      "    if w.is_alive():\n",
      "  File \"/usr/lib/python3.9/multiprocessing/process.py\", line 160, in is_alive\n",
      "    assert self._parent_pid == os.getpid(), 'can only test a child process'\n",
      "AssertionError: can only test a child process\n",
      "Exception ignored in: <function _MultiProcessingDataLoaderIter.__del__ at 0x7ffba0368280>\n",
      "Traceback (most recent call last):\n",
      "  File \"/usr/local/lib/python3.9/dist-packages/torch/utils/data/dataloader.py\", line 1466, in __del__\n",
      "    self._shutdown_workers()\n",
      "  File \"/usr/local/lib/python3.9/dist-packages/torch/utils/data/dataloader.py\", line 1449, in _shutdown_workers\n",
      "    if w.is_alive():\n",
      "  File \"/usr/lib/python3.9/multiprocessing/process.py\", line 160, in is_alive\n",
      "    assert self._parent_pid == os.getpid(), 'can only test a child process'\n",
      "AssertionError: can only test a child process\n"
     ]
    },
    {
     "name": "stdout",
     "output_type": "stream",
     "text": [
      "Test loss: 2.02013 | Test accuracy: 47.10\n",
      "\n",
      "Epoch: 8\n",
      "---------\n"
     ]
    },
    {
     "name": "stderr",
     "output_type": "stream",
     "text": [
      "Exception ignored in: <function _MultiProcessingDataLoaderIter.__del__ at 0x7ffba0368280>\n",
      "Traceback (most recent call last):\n",
      "  File \"/usr/local/lib/python3.9/dist-packages/torch/utils/data/dataloader.py\", line 1466, in __del__\n",
      "    self._shutdown_workers()\n",
      "  File \"/usr/local/lib/python3.9/dist-packages/torch/utils/data/dataloader.py\", line 1449, in _shutdown_workers\n",
      "    if w.is_alive():\n",
      "  File \"/usr/lib/python3.9/multiprocessing/process.py\", line 160, in is_alive\n",
      "    assert self._parent_pid == os.getpid(), 'can only test a child process'\n",
      "AssertionError: Exception ignored in: can only test a child process<function _MultiProcessingDataLoaderIter.__del__ at 0x7ffba0368280>\n",
      "\n",
      "Traceback (most recent call last):\n",
      "  File \"/usr/local/lib/python3.9/dist-packages/torch/utils/data/dataloader.py\", line 1466, in __del__\n",
      "    self._shutdown_workers()\n",
      "  File \"/usr/local/lib/python3.9/dist-packages/torch/utils/data/dataloader.py\", line 1449, in _shutdown_workers\n",
      "    if w.is_alive():\n",
      "  File \"/usr/lib/python3.9/multiprocessing/process.py\", line 160, in is_alive\n",
      "    assert self._parent_pid == os.getpid(), 'can only test a child process'\n",
      "AssertionError: can only test a child process\n"
     ]
    },
    {
     "name": "stdout",
     "output_type": "stream",
     "text": [
      "Train loss: 0.58308 | Train accuracy: 83.83\n"
     ]
    },
    {
     "name": "stderr",
     "output_type": "stream",
     "text": [
      "Exception ignored in: <function _MultiProcessingDataLoaderIter.__del__ at 0x7ffba0368280>\n",
      "Traceback (most recent call last):\n",
      "  File \"/usr/local/lib/python3.9/dist-packages/torch/utils/data/dataloader.py\", line 1466, in __del__\n",
      "    self._shutdown_workers()\n",
      "  File \"/usr/local/lib/python3.9/dist-packages/torch/utils/data/dataloader.py\", line 1449, in _shutdown_workers\n",
      "    if w.is_alive():\n",
      "  File \"/usr/lib/python3.9/multiprocessing/process.py\", line 160, in is_alive\n",
      "    assert self._parent_pid == os.getpid(), 'can only test a child process'\n",
      "AssertionError: can only test a child process\n",
      "Exception ignored in: <function _MultiProcessingDataLoaderIter.__del__ at 0x7ffba0368280>\n",
      "Traceback (most recent call last):\n",
      "  File \"/usr/local/lib/python3.9/dist-packages/torch/utils/data/dataloader.py\", line 1466, in __del__\n",
      "    self._shutdown_workers()\n",
      "  File \"/usr/local/lib/python3.9/dist-packages/torch/utils/data/dataloader.py\", line 1449, in _shutdown_workers\n",
      "    if w.is_alive():\n",
      "  File \"/usr/lib/python3.9/multiprocessing/process.py\", line 160, in is_alive\n",
      "    assert self._parent_pid == os.getpid(), 'can only test a child process'\n",
      "AssertionError: can only test a child process\n"
     ]
    },
    {
     "name": "stdout",
     "output_type": "stream",
     "text": [
      "Test loss: 2.05590 | Test accuracy: 48.09\n",
      "\n",
      "Epoch: 9\n",
      "---------\n"
     ]
    },
    {
     "name": "stderr",
     "output_type": "stream",
     "text": [
      "Exception ignored in: <function _MultiProcessingDataLoaderIter.__del__ at 0x7ffba0368280>\n",
      "Traceback (most recent call last):\n",
      "  File \"/usr/local/lib/python3.9/dist-packages/torch/utils/data/dataloader.py\", line 1466, in __del__\n",
      "    self._shutdown_workers()\n",
      "  File \"/usr/local/lib/python3.9/dist-packages/torch/utils/data/dataloader.py\", line 1449, in _shutdown_workers\n",
      "    if w.is_alive():\n",
      "  File \"/usr/lib/python3.9/multiprocessing/process.py\", line 160, in is_alive\n",
      "    assert self._parent_pid == os.getpid(), 'can only test a child process'\n",
      "AssertionError: can only test a child process\n",
      "Exception ignored in: <function _MultiProcessingDataLoaderIter.__del__ at 0x7ffba0368280>\n",
      "Traceback (most recent call last):\n",
      "  File \"/usr/local/lib/python3.9/dist-packages/torch/utils/data/dataloader.py\", line 1466, in __del__\n",
      "    self._shutdown_workers()\n",
      "  File \"/usr/local/lib/python3.9/dist-packages/torch/utils/data/dataloader.py\", line 1449, in _shutdown_workers\n",
      "    if w.is_alive():\n",
      "  File \"/usr/lib/python3.9/multiprocessing/process.py\", line 160, in is_alive\n",
      "    assert self._parent_pid == os.getpid(), 'can only test a child process'\n",
      "AssertionError: can only test a child process\n"
     ]
    },
    {
     "name": "stdout",
     "output_type": "stream",
     "text": [
      "Train loss: 0.51683 | Train accuracy: 85.60\n"
     ]
    },
    {
     "name": "stderr",
     "output_type": "stream",
     "text": [
      "Exception ignored in: <function _MultiProcessingDataLoaderIter.__del__ at 0x7ffba0368280>\n",
      "Traceback (most recent call last):\n",
      "  File \"/usr/local/lib/python3.9/dist-packages/torch/utils/data/dataloader.py\", line 1466, in __del__\n",
      "    self._shutdown_workers()\n",
      "  File \"/usr/local/lib/python3.9/dist-packages/torch/utils/data/dataloader.py\", line 1449, in _shutdown_workers\n",
      "    if w.is_alive():\n",
      "  File \"/usr/lib/python3.9/multiprocessing/process.py\", line 160, in is_alive\n",
      "    assert self._parent_pid == os.getpid(), 'can only test a child process'\n",
      "AssertionError: can only test a child process\n",
      "Exception ignored in: <function _MultiProcessingDataLoaderIter.__del__ at 0x7ffba0368280>\n",
      "Traceback (most recent call last):\n",
      "  File \"/usr/local/lib/python3.9/dist-packages/torch/utils/data/dataloader.py\", line 1466, in __del__\n",
      "    self._shutdown_workers()\n",
      "  File \"/usr/local/lib/python3.9/dist-packages/torch/utils/data/dataloader.py\", line 1449, in _shutdown_workers\n",
      "    if w.is_alive():\n",
      "  File \"/usr/lib/python3.9/multiprocessing/process.py\", line 160, in is_alive\n",
      "    assert self._parent_pid == os.getpid(), 'can only test a child process'\n",
      "AssertionError: can only test a child process\n"
     ]
    },
    {
     "name": "stdout",
     "output_type": "stream",
     "text": [
      "Test loss: 2.18439 | Test accuracy: 46.88\n",
      "\n",
      "Epoch: 10\n",
      "---------\n"
     ]
    },
    {
     "name": "stderr",
     "output_type": "stream",
     "text": [
      "Exception ignored in: <function _MultiProcessingDataLoaderIter.__del__ at 0x7ffba0368280>\n",
      "Traceback (most recent call last):\n",
      "  File \"/usr/local/lib/python3.9/dist-packages/torch/utils/data/dataloader.py\", line 1466, in __del__\n",
      "    self._shutdown_workers()\n",
      "  File \"/usr/local/lib/python3.9/dist-packages/torch/utils/data/dataloader.py\", line 1449, in _shutdown_workers\n",
      "    if w.is_alive():\n",
      "  File \"/usr/lib/python3.9/multiprocessing/process.py\", line 160, in is_alive\n",
      "    assert self._parent_pid == os.getpid(), 'can only test a child process'\n",
      "AssertionError: can only test a child process\n",
      "Exception ignored in: <function _MultiProcessingDataLoaderIter.__del__ at 0x7ffba0368280>\n",
      "Traceback (most recent call last):\n",
      "  File \"/usr/local/lib/python3.9/dist-packages/torch/utils/data/dataloader.py\", line 1466, in __del__\n",
      "    self._shutdown_workers()\n",
      "  File \"/usr/local/lib/python3.9/dist-packages/torch/utils/data/dataloader.py\", line 1449, in _shutdown_workers\n",
      "    if w.is_alive():\n",
      "  File \"/usr/lib/python3.9/multiprocessing/process.py\", line 160, in is_alive\n",
      "    assert self._parent_pid == os.getpid(), 'can only test a child process'\n",
      "AssertionError: can only test a child process\n"
     ]
    },
    {
     "name": "stdout",
     "output_type": "stream",
     "text": [
      "Train loss: 0.46341 | Train accuracy: 87.58\n"
     ]
    },
    {
     "name": "stderr",
     "output_type": "stream",
     "text": [
      "Exception ignored in: <function _MultiProcessingDataLoaderIter.__del__ at 0x7ffba0368280>\n",
      "Traceback (most recent call last):\n",
      "  File \"/usr/local/lib/python3.9/dist-packages/torch/utils/data/dataloader.py\", line 1466, in __del__\n",
      "    self._shutdown_workers()\n",
      "  File \"/usr/local/lib/python3.9/dist-packages/torch/utils/data/dataloader.py\", line 1449, in _shutdown_workers\n",
      "    if w.is_alive():\n",
      "  File \"/usr/lib/python3.9/multiprocessing/process.py\", line 160, in is_alive\n",
      "    assert self._parent_pid == os.getpid(), 'can only test a child process'\n",
      "AssertionError: can only test a child process\n",
      "Exception ignored in: <function _MultiProcessingDataLoaderIter.__del__ at 0x7ffba0368280>\n",
      "Traceback (most recent call last):\n",
      "  File \"/usr/local/lib/python3.9/dist-packages/torch/utils/data/dataloader.py\", line 1466, in __del__\n",
      "    self._shutdown_workers()\n",
      "  File \"/usr/local/lib/python3.9/dist-packages/torch/utils/data/dataloader.py\", line 1449, in _shutdown_workers\n",
      "    if w.is_alive():\n",
      "  File \"/usr/lib/python3.9/multiprocessing/process.py\", line 160, in is_alive\n",
      "    assert self._parent_pid == os.getpid(), 'can only test a child process'\n",
      "AssertionError: can only test a child process\n"
     ]
    },
    {
     "name": "stdout",
     "output_type": "stream",
     "text": [
      "Test loss: 2.25207 | Test accuracy: 45.27\n",
      "\n",
      "Epoch: 11\n",
      "---------\n"
     ]
    },
    {
     "name": "stderr",
     "output_type": "stream",
     "text": [
      "Exception ignored in: <function _MultiProcessingDataLoaderIter.__del__ at 0x7ffba0368280>\n",
      "Traceback (most recent call last):\n",
      "  File \"/usr/local/lib/python3.9/dist-packages/torch/utils/data/dataloader.py\", line 1466, in __del__\n",
      "    self._shutdown_workers()\n",
      "  File \"/usr/local/lib/python3.9/dist-packages/torch/utils/data/dataloader.py\", line 1449, in _shutdown_workers\n",
      "    if w.is_alive():\n",
      "  File \"/usr/lib/python3.9/multiprocessing/process.py\", line 160, in is_alive\n",
      "    assert self._parent_pid == os.getpid(), 'can only test a child process'\n",
      "AssertionError: can only test a child process\n",
      "Exception ignored in: <function _MultiProcessingDataLoaderIter.__del__ at 0x7ffba0368280>\n",
      "Traceback (most recent call last):\n",
      "  File \"/usr/local/lib/python3.9/dist-packages/torch/utils/data/dataloader.py\", line 1466, in __del__\n",
      "    self._shutdown_workers()\n",
      "  File \"/usr/local/lib/python3.9/dist-packages/torch/utils/data/dataloader.py\", line 1449, in _shutdown_workers\n",
      "    if w.is_alive():\n",
      "  File \"/usr/lib/python3.9/multiprocessing/process.py\", line 160, in is_alive\n",
      "    assert self._parent_pid == os.getpid(), 'can only test a child process'\n",
      "AssertionError: can only test a child process\n"
     ]
    },
    {
     "name": "stdout",
     "output_type": "stream",
     "text": [
      "Train loss: 0.38650 | Train accuracy: 89.93\n"
     ]
    },
    {
     "name": "stderr",
     "output_type": "stream",
     "text": [
      "Exception ignored in: <function _MultiProcessingDataLoaderIter.__del__ at 0x7ffba0368280>\n",
      "Traceback (most recent call last):\n",
      "  File \"/usr/local/lib/python3.9/dist-packages/torch/utils/data/dataloader.py\", line 1466, in __del__\n",
      "    self._shutdown_workers()\n",
      "  File \"/usr/local/lib/python3.9/dist-packages/torch/utils/data/dataloader.py\", line 1449, in _shutdown_workers\n",
      "    if w.is_alive():\n",
      "Exception ignored in: <function _MultiProcessingDataLoaderIter.__del__ at 0x7ffba0368280>  File \"/usr/lib/python3.9/multiprocessing/process.py\", line 160, in is_alive\n",
      "    \n",
      "assert self._parent_pid == os.getpid(), 'can only test a child process'\n",
      "Traceback (most recent call last):\n",
      "  File \"/usr/local/lib/python3.9/dist-packages/torch/utils/data/dataloader.py\", line 1466, in __del__\n",
      "AssertionError    : self._shutdown_workers()can only test a child process\n",
      "\n",
      "  File \"/usr/local/lib/python3.9/dist-packages/torch/utils/data/dataloader.py\", line 1449, in _shutdown_workers\n",
      "    if w.is_alive():\n",
      "  File \"/usr/lib/python3.9/multiprocessing/process.py\", line 160, in is_alive\n",
      "    assert self._parent_pid == os.getpid(), 'can only test a child process'\n",
      "AssertionError: can only test a child process\n"
     ]
    },
    {
     "name": "stdout",
     "output_type": "stream",
     "text": [
      "Test loss: 2.08337 | Test accuracy: 48.66\n",
      "\n",
      "Epoch: 12\n",
      "---------\n"
     ]
    },
    {
     "name": "stderr",
     "output_type": "stream",
     "text": [
      "Exception ignored in: <function _MultiProcessingDataLoaderIter.__del__ at 0x7ffba0368280>\n",
      "Traceback (most recent call last):\n",
      "  File \"/usr/local/lib/python3.9/dist-packages/torch/utils/data/dataloader.py\", line 1466, in __del__\n",
      "    self._shutdown_workers()\n",
      "  File \"/usr/local/lib/python3.9/dist-packages/torch/utils/data/dataloader.py\", line 1449, in _shutdown_workers\n",
      "    if w.is_alive():\n",
      "  File \"/usr/lib/python3.9/multiprocessing/process.py\", line 160, in is_alive\n",
      "    assert self._parent_pid == os.getpid(), 'can only test a child process'\n",
      "AssertionError: can only test a child process\n",
      "Exception ignored in: <function _MultiProcessingDataLoaderIter.__del__ at 0x7ffba0368280>\n",
      "Traceback (most recent call last):\n",
      "  File \"/usr/local/lib/python3.9/dist-packages/torch/utils/data/dataloader.py\", line 1466, in __del__\n",
      "    self._shutdown_workers()\n",
      "  File \"/usr/local/lib/python3.9/dist-packages/torch/utils/data/dataloader.py\", line 1449, in _shutdown_workers\n",
      "    if w.is_alive():\n",
      "  File \"/usr/lib/python3.9/multiprocessing/process.py\", line 160, in is_alive\n",
      "    assert self._parent_pid == os.getpid(), 'can only test a child process'\n",
      "AssertionError: can only test a child process\n"
     ]
    },
    {
     "name": "stdout",
     "output_type": "stream",
     "text": [
      "Train loss: 0.34269 | Train accuracy: 91.39\n",
      "Test loss: 2.30381 | Test accuracy: 46.75\n",
      "\n",
      "Epoch: 13\n",
      "---------\n",
      "Train loss: 0.29454 | Train accuracy: 93.40\n",
      "Test loss: 2.35317 | Test accuracy: 46.65\n",
      "\n",
      "Epoch: 14\n",
      "---------\n",
      "Train loss: 0.24923 | Train accuracy: 94.76\n",
      "Test loss: 2.00289 | Test accuracy: 52.61\n",
      "\n",
      "Epoch: 15\n",
      "---------\n",
      "Train loss: 0.21474 | Train accuracy: 95.86\n",
      "Test loss: 2.40258 | Test accuracy: 47.06\n",
      "\n",
      "Epoch: 16\n",
      "---------\n",
      "Train loss: 0.17696 | Train accuracy: 96.88\n",
      "Test loss: 2.17619 | Test accuracy: 50.48\n",
      "\n",
      "Epoch: 17\n",
      "---------\n",
      "Train loss: 0.13087 | Train accuracy: 98.01\n",
      "Test loss: 2.64927 | Test accuracy: 48.68\n",
      "\n",
      "Epoch: 18\n",
      "---------\n",
      "Train loss: 0.11366 | Train accuracy: 98.35\n",
      "Test loss: 2.68964 | Test accuracy: 45.87\n",
      "\n",
      "Epoch: 19\n",
      "---------\n",
      "Train loss: 0.10381 | Train accuracy: 98.65\n",
      "Test loss: 2.20140 | Test accuracy: 52.65\n",
      "\n",
      "Epoch: 20\n",
      "---------\n",
      "Train loss: 0.06718 | Train accuracy: 99.49\n",
      "Test loss: 2.24189 | Test accuracy: 51.73\n",
      "\n",
      "Epoch: 21\n",
      "---------\n",
      "Train loss: 0.05289 | Train accuracy: 99.78\n",
      "Test loss: 2.30274 | Test accuracy: 51.80\n",
      "\n",
      "Epoch: 22\n",
      "---------\n",
      "Train loss: 0.04470 | Train accuracy: 99.82\n",
      "Test loss: 2.39893 | Test accuracy: 51.58\n",
      "\n",
      "Epoch: 23\n",
      "---------\n",
      "Train loss: 0.03775 | Train accuracy: 99.89\n",
      "Test loss: 2.39403 | Test accuracy: 52.28\n",
      "\n",
      "Epoch: 24\n",
      "---------\n",
      "Train loss: 0.03342 | Train accuracy: 99.88\n",
      "Test loss: 2.35449 | Test accuracy: 52.50\n",
      "\n",
      "Epoch: 25\n",
      "---------\n",
      "Train loss: 0.02716 | Train accuracy: 99.98\n",
      "Test loss: 2.37526 | Test accuracy: 53.46\n",
      "\n",
      "Epoch: 26\n",
      "---------\n",
      "Train loss: 0.02418 | Train accuracy: 99.98\n",
      "Test loss: 2.40102 | Test accuracy: 52.97\n",
      "\n",
      "Epoch: 27\n",
      "---------\n",
      "Train loss: 0.02171 | Train accuracy: 99.96\n",
      "Test loss: 2.43903 | Test accuracy: 52.46\n",
      "\n",
      "Epoch: 28\n",
      "---------\n",
      "Train loss: 0.01920 | Train accuracy: 99.98\n",
      "Test loss: 2.42112 | Test accuracy: 53.30\n",
      "\n",
      "Epoch: 29\n",
      "---------\n",
      "Train loss: 0.01728 | Train accuracy: 99.99\n",
      "Test loss: 2.47211 | Test accuracy: 52.57\n",
      "\n",
      "Epoch: 30\n",
      "---------\n",
      "Train loss: 0.01574 | Train accuracy: 99.99\n",
      "Test loss: 2.47302 | Test accuracy: 53.49\n",
      "\n",
      "Epoch: 31\n",
      "---------\n",
      "Train loss: 0.01428 | Train accuracy: 99.99\n",
      "Test loss: 2.49428 | Test accuracy: 52.94\n",
      "\n",
      "Epoch: 32\n",
      "---------\n",
      "Train loss: 0.01528 | Train accuracy: 99.94\n",
      "Test loss: 2.51946 | Test accuracy: 52.92\n",
      "\n",
      "Epoch: 33\n",
      "---------\n",
      "Train loss: 0.24725 | Train accuracy: 96.75\n",
      "Test loss: 2.34676 | Test accuracy: 51.94\n",
      "\n",
      "Epoch: 34\n",
      "---------\n",
      "Train loss: 0.02415 | Train accuracy: 99.97\n",
      "Test loss: 2.40044 | Test accuracy: 52.82\n",
      "\n",
      "Epoch: 35\n",
      "---------\n",
      "Train loss: 0.01632 | Train accuracy: 99.98\n",
      "Test loss: 2.42814 | Test accuracy: 52.98\n",
      "\n",
      "Epoch: 36\n",
      "---------\n",
      "Train loss: 0.01351 | Train accuracy: 100.00\n",
      "Test loss: 2.48439 | Test accuracy: 52.54\n",
      "\n",
      "Epoch: 37\n",
      "---------\n",
      "Train loss: 0.01219 | Train accuracy: 99.99\n",
      "Test loss: 2.51149 | Test accuracy: 52.61\n",
      "\n",
      "Epoch: 38\n",
      "---------\n",
      "Train loss: 0.01073 | Train accuracy: 100.00\n",
      "Test loss: 2.52255 | Test accuracy: 53.09\n",
      "\n",
      "Epoch: 39\n",
      "---------\n",
      "Train loss: 0.00991 | Train accuracy: 100.00\n",
      "Test loss: 2.54753 | Test accuracy: 53.01\n",
      "\n",
      "Epoch: 40\n",
      "---------\n",
      "Train loss: 0.00912 | Train accuracy: 100.00\n",
      "Test loss: 2.57586 | Test accuracy: 52.90\n",
      "\n",
      "Epoch: 41\n",
      "---------\n",
      "Train loss: 0.00851 | Train accuracy: 100.00\n",
      "Test loss: 2.58513 | Test accuracy: 53.35\n",
      "\n",
      "Epoch: 42\n",
      "---------\n",
      "Train loss: 0.00796 | Train accuracy: 100.00\n",
      "Test loss: 2.60375 | Test accuracy: 53.01\n",
      "\n",
      "Epoch: 43\n",
      "---------\n",
      "Train loss: 0.00758 | Train accuracy: 100.00\n",
      "Test loss: 2.62022 | Test accuracy: 53.05\n",
      "\n",
      "Epoch: 44\n",
      "---------\n",
      "Train loss: 0.00714 | Train accuracy: 100.00\n",
      "Test loss: 2.63619 | Test accuracy: 52.98\n",
      "\n",
      "Epoch: 45\n",
      "---------\n",
      "Train loss: 0.00676 | Train accuracy: 100.00\n",
      "Test loss: 2.64781 | Test accuracy: 53.19\n",
      "\n",
      "Epoch: 46\n",
      "---------\n",
      "Train loss: 0.00641 | Train accuracy: 100.00\n",
      "Test loss: 2.66446 | Test accuracy: 53.12\n",
      "\n",
      "Epoch: 47\n",
      "---------\n",
      "Train loss: 0.00620 | Train accuracy: 100.00\n",
      "Test loss: 2.68050 | Test accuracy: 52.57\n",
      "\n",
      "Epoch: 48\n",
      "---------\n",
      "Train loss: 0.00591 | Train accuracy: 100.00\n",
      "Test loss: 2.69161 | Test accuracy: 52.87\n",
      "\n",
      "Epoch: 49\n",
      "---------\n",
      "Train loss: 0.00568 | Train accuracy: 100.00\n",
      "Test loss: 2.69668 | Test accuracy: 53.44\n",
      "\n"
     ]
    }
   ],
   "source": [
    "#TO COMPLETE --> Running you CNN model class\n",
    "# Train and test model \n",
    "epochs = 50\n",
    "for epoch in (range(epochs)):\n",
    "    print(f\"Epoch: {epoch}\\n---------\")\n",
    "    train_step(data_loader=train_loader, \n",
    "        model=model_3, \n",
    "        loss_fn=loss_fn,\n",
    "        optimizer=optimizer,\n",
    "        accuracy_fn=accuracy_fn\n",
    "    )\n",
    "    test_step(data_loader=test_val_loader,\n",
    "        model=model_3,\n",
    "        loss_fn=loss_fn,\n",
    "        accuracy_fn=accuracy_fn\n",
    "    )"
   ]
  },
  {
   "cell_type": "code",
   "execution_count": 174,
   "metadata": {
    "colab": {
     "base_uri": "https://localhost:8080/"
    },
    "id": "Lln21MYeCrIT",
    "outputId": "08af6485-f253-44e1-fc0e-5d9d7db189e7"
   },
   "outputs": [
    {
     "name": "stdout",
     "output_type": "stream",
     "text": [
      "Train loss: 0.00543 | Train accuracy: 100.00\n",
      "Test loss: 2.70814 | Test accuracy: 52.90\n",
      "\n",
      "Train loss: 0.00523 | Train accuracy: 100.00\n",
      "Test loss: 2.72499 | Test accuracy: 52.76\n",
      "\n",
      "Train loss: 0.00505 | Train accuracy: 100.00\n",
      "Test loss: 2.73701 | Test accuracy: 53.09\n",
      "\n",
      "Train loss: 0.00489 | Train accuracy: 100.00\n",
      "Test loss: 2.75010 | Test accuracy: 52.79\n",
      "\n",
      "Train loss: 0.00473 | Train accuracy: 100.00\n",
      "Test loss: 2.75457 | Test accuracy: 53.05\n",
      "\n",
      "Train loss: 0.00457 | Train accuracy: 100.00\n",
      "Test loss: 2.76708 | Test accuracy: 53.01\n",
      "\n",
      "Train loss: 0.00439 | Train accuracy: 100.00\n",
      "Test loss: 2.77922 | Test accuracy: 53.09\n",
      "\n",
      "Train loss: 0.00428 | Train accuracy: 100.00\n",
      "Test loss: 2.78370 | Test accuracy: 53.20\n",
      "\n",
      "Train loss: 0.00413 | Train accuracy: 100.00\n",
      "Test loss: 2.80076 | Test accuracy: 53.01\n",
      "\n",
      "Train loss: 0.00402 | Train accuracy: 100.00\n",
      "Test loss: 2.79601 | Test accuracy: 53.05\n",
      "\n",
      "Train loss: 0.00391 | Train accuracy: 100.00\n",
      "Test loss: 2.81050 | Test accuracy: 53.20\n",
      "\n",
      "Train loss: 0.00378 | Train accuracy: 100.00\n",
      "Test loss: 2.82231 | Test accuracy: 52.72\n",
      "\n",
      "Train loss: 0.00369 | Train accuracy: 100.00\n",
      "Test loss: 2.82728 | Test accuracy: 53.01\n",
      "\n",
      "Train loss: 0.00360 | Train accuracy: 100.00\n",
      "Test loss: 2.82701 | Test accuracy: 52.90\n",
      "\n",
      "Train loss: 0.00350 | Train accuracy: 100.00\n",
      "Test loss: 2.84376 | Test accuracy: 52.90\n",
      "\n",
      "Train loss: 0.00340 | Train accuracy: 100.00\n",
      "Test loss: 2.84869 | Test accuracy: 52.79\n",
      "\n",
      "Train loss: 0.00332 | Train accuracy: 100.00\n",
      "Test loss: 2.85824 | Test accuracy: 52.98\n",
      "\n",
      "Train loss: 0.00325 | Train accuracy: 100.00\n",
      "Test loss: 2.86970 | Test accuracy: 52.76\n",
      "\n",
      "Train loss: 0.00316 | Train accuracy: 100.00\n",
      "Test loss: 2.87404 | Test accuracy: 52.87\n",
      "\n",
      "Train loss: 0.00308 | Train accuracy: 100.00\n",
      "Test loss: 2.87619 | Test accuracy: 52.72\n",
      "\n"
     ]
    }
   ],
   "source": [
    "import tqdm\n",
    "results={\"train_loss\": [],\n",
    "        \"train_acc\": [],\n",
    "        \"test_loss\": [],\n",
    "        \"test_acc\": [],\n",
    "        \"Epoch\":[],\n",
    "    }\n",
    "    \n",
    "epochs =20\n",
    "    # 3. Loop through training and testing steps for a number of epochs\n",
    "for epoch in range(epochs):\n",
    "  train_loss, train_acc = train_step(model=model_3,\n",
    "                                           data_loader=train_loader,\n",
    "                                           loss_fn=loss_fn,\n",
    "                                           optimizer=optimizer,\n",
    "                                           accuracy_fn= accuracy_fn)\n",
    "  test_loss, test_acc = test_step(model=model_3,\n",
    "            data_loader=test_val_loader,\n",
    "            loss_fn=loss_fn,\n",
    "            accuracy_fn = accuracy_fn)\n",
    "        \n",
    "     \n",
    "        # 5. Update results dictionary\n",
    "  results[\"train_loss\"].append(train_loss)\n",
    "  results[\"train_acc\"].append(train_acc)\n",
    "  results[\"test_loss\"].append(test_loss)\n",
    "  results[\"test_acc\"].append(test_acc)\n",
    "  results[\"Epoch\"].append(epoch)"
   ]
  },
  {
   "cell_type": "code",
   "execution_count": 175,
   "metadata": {
    "colab": {
     "base_uri": "https://localhost:8080/",
     "height": 458
    },
    "id": "KA_RFPFrIyRZ",
    "outputId": "3a9d1f1d-9ddc-4bd5-90ce-0d72ae993ee7"
   },
   "outputs": [
    {
     "data": {
      "image/png": "[encoded data removed]",
      "text/plain": [
       "<Figure size 1080x504 with 2 Axes>"
      ]
     },
     "metadata": {
      "needs_background": "light"
     },
     "output_type": "display_data"
    }
   ],
   "source": [
    "# Your graph\n",
    "# Your graph\n",
    "li={\"train_loss\": [],\n",
    "      \"test_loss\": [],  \n",
    "    }\n",
    "for i in results[\"train_loss\"]:\n",
    "  li[\"train_loss\"].append(i.cpu().detach())\n",
    " \n",
    "\n",
    "for i in results[\"test_loss\"]:\n",
    "  li[\"test_loss\"].append(i.cpu())\n",
    "\n",
    "\n",
    "import numpy as np\n",
    "plt.figure(figsize=(15, 7))\n",
    "\n",
    "    # Plot loss\n",
    "plt.subplot(1, 2, 1)\n",
    "plt.plot(results[\"Epoch\"],li[\"train_loss\"], label='train_loss')\n",
    "plt.plot(results[\"Epoch\"], li[\"test_loss\"], label='test_loss')\n",
    "plt.title('Loss')\n",
    "plt.xlabel('Epochs')\n",
    "plt.legend()\n",
    "\n",
    "    # Plot accuracy\n",
    "plt.subplot(1, 2, 2)\n",
    "plt.plot(results[\"Epoch\"], results[\"train_acc\"], label='train_accuracy')\n",
    "plt.plot(results[\"Epoch\"], results[\"test_acc\"], label='test_accuracy')\n",
    "plt.title('Accuracy')\n",
    "plt.xlabel('Epochs')\n",
    "plt.legend();"
   ]
  },
  {
   "cell_type": "markdown",
   "metadata": {
    "id": "Yi5E93q_IyRa"
   },
   "source": [
    "#### 2.3.1 Data augmentation"
   ]
  },
  {
   "cell_type": "code",
   "execution_count": 176,
   "metadata": {
    "id": "Q09BCgyELeKb"
   },
   "outputs": [],
   "source": [
    "transform = transforms.Compose([\n",
    "    transforms.ToTensor(),\n",
    "    transforms.ColorJitter(hue=0.2, saturation=0.2, brightness=0.2),\n",
    "    transforms.RandomAffine(degrees=10, translate=(0.1,0.1), scale=(0.9,1.1)),\n",
    "   # transforms.Grayscale(num_output_channels=3),\n",
    "    transforms.RandomHorizontalFlip(p=0.5)\n",
    "])\n",
    "\n",
    "val_transform = transforms.ToTensor()\n",
    "\n",
    "train_set = imagefolder(train,transform)\n",
    "test_val_set = imagefolder(test_val,transform)\n",
    "#test_data = imagefolder(testing_set, val_transform)\n",
    "\n"
   ]
  },
  {
   "cell_type": "markdown",
   "metadata": {
    "id": "91vvAaYBAiVm"
   },
   "source": [
    "### Data Augmentation\n"
   ]
  },
  {
   "cell_type": "code",
   "execution_count": 177,
   "metadata": {
    "id": "6HrImjeqK-pl"
   },
   "outputs": [],
   "source": [
    "train_loader = torch.utils.data.DataLoader(\n",
    "    train_set,\n",
    "    batch_size=32,\n",
    "    shuffle=True,\n",
    "    num_workers=2\n",
    ")\n",
    "\n",
    "test_val_loader = torch.utils.data.DataLoader(\n",
    "    test_val_set,\n",
    "    batch_size=32, # Forward pass only so batch size can be larger\n",
    "    shuffle=False,\n",
    "    num_workers=2\n",
    ")\n",
    "\n",
    "test_loader = torch.utils.data.DataLoader(\n",
    "    testing_set,\n",
    "    batch_size=1, # Forward pass only so batch size can be larger\n",
    "    shuffle=False,\n",
    "    num_workers=2\n",
    ")"
   ]
  },
  {
   "cell_type": "code",
   "execution_count": 178,
   "metadata": {
    "id": "KEeedlIhIyRa"
   },
   "outputs": [],
   "source": [
    "# Your code here!\n",
    "# data augmentation\n",
    "\n",
    "\n",
    "## Create a convolutional neural network \n",
    "class CNNModel(nn.Module):\n",
    "   \n",
    "    def __init__(self, input_shape: int, output_shape: int):\n",
    "        super().__init__()\n",
    "        self.block_1 = nn.Sequential(\n",
    "            nn.Conv2d(input_shape,\n",
    "                      128,\n",
    "                      kernel_size=3, # how big is the square that's going over the image?\n",
    "                      stride=1, # default\n",
    "                      padding=2),# options = \"valid\" (no padding) or \"same\" (output has same shape as input) or int for specific number \n",
    "            nn.ReLU(),\n",
    "            nn.MaxPool2d(kernel_size=2),\n",
    "            #nn.Dropout(p=0.5),\n",
    "\n",
    "            nn.Conv2d(128,\n",
    "                      256,\n",
    "                      kernel_size=3,\n",
    "                      stride=1,\n",
    "                      padding=2),\n",
    "            nn.BatchNorm2d(256),         \n",
    "            nn.ReLU(),\n",
    "            nn.MaxPool2d(kernel_size=2,\n",
    "                         stride=2), # default stride value is same as kernel_size\n",
    "            #nn.Dropout(p=0.5) \n",
    "\n",
    "            nn.Conv2d(256,\n",
    "                      512,\n",
    "                      kernel_size=3,\n",
    "                      stride=1,\n",
    "                      padding=2),\n",
    "            nn.BatchNorm2d(512),         \n",
    "            nn.ReLU(),\n",
    "            nn.MaxPool2d(kernel_size=5,\n",
    "                         stride=2)   \n",
    "\n",
    "            \n",
    "            \n",
    "                     \n",
    "\n",
    "        )\n",
    "       \n",
    "        self.classifier = nn.Sequential(\n",
    "            nn.Flatten(),\n",
    "            # Where did this in_features shape come from? \n",
    "            # It's because each layer of our network compresses and changes the shape of our inputs data.\n",
    "            nn.Linear(in_features=32768, \n",
    "                      out_features=output_shape)\n",
    "        )\n",
    "    \n",
    "    def forward(self, x):\n",
    "       # x = self.block_1(x)\n",
    "        # print(x.shape)\n",
    "       # x = self.block_2(x)\n",
    "        # print(x.shape)\n",
    "       # x = self.classifier(x)\n",
    "        # print(x.shape)\n",
    "        return self.classifier(self.block_1(x))\n",
    "\n",
    "torch.manual_seed(42)\n",
    "model_3 = CNNModel(input_shape=3,\n",
    "    output_shape=30).to(device)\n",
    "model_3.to(device)\n",
    "\n",
    "#loss func\n",
    "# Setup loss and optimizer\n",
    "loss_fn = nn.CrossEntropyLoss()\n",
    "optimizer = torch.optim.SGD(params=model_3.parameters(), \n",
    "                             lr=0.001)"
   ]
  },
  {
   "cell_type": "markdown",
   "metadata": {
    "id": "BGmlGwTtIyRb"
   },
   "source": [
    "#### 2.3.3 Hyperparameter tuning\n",
    "\n",
    "> Use learning rates [0.1, 0.001, 0.0001]\n"
   ]
  },
  {
   "cell_type": "code",
   "execution_count": 187,
   "metadata": {
    "colab": {
     "base_uri": "https://localhost:8080/"
    },
    "id": "p6E-c-rxIyRb",
    "outputId": "b6ebca37-5275-4279-ebe2-92b1a4d013b1"
   },
   "outputs": [
    {
     "name": "stdout",
     "output_type": "stream",
     "text": [
      "Epoch: 0\n",
      "---------\n",
      "Train loss: 1.89990 | Train accuracy: 44.44\n",
      "Test loss: 1.99779 | Test accuracy: 42.54\n",
      "\n",
      "Epoch: 1\n",
      "---------\n",
      "Train loss: 1.89639 | Train accuracy: 45.31\n",
      "Test loss: 1.99277 | Test accuracy: 43.38\n",
      "\n",
      "Epoch: 2\n",
      "---------\n",
      "Train loss: 1.89658 | Train accuracy: 44.75\n",
      "Test loss: 1.99213 | Test accuracy: 42.12\n",
      "\n",
      "Epoch: 3\n",
      "---------\n",
      "Train loss: 1.90387 | Train accuracy: 44.26\n",
      "Test loss: 1.98401 | Test accuracy: 43.27\n",
      "\n",
      "Epoch: 4\n",
      "---------\n",
      "Train loss: 1.88867 | Train accuracy: 44.63\n",
      "Test loss: 1.99203 | Test accuracy: 41.08\n",
      "\n",
      "Epoch: 5\n",
      "---------\n",
      "Train loss: 1.89339 | Train accuracy: 44.58\n",
      "Test loss: 1.98710 | Test accuracy: 41.61\n",
      "\n",
      "Epoch: 6\n",
      "---------\n",
      "Train loss: 1.88665 | Train accuracy: 44.71\n",
      "Test loss: 1.98200 | Test accuracy: 43.01\n",
      "\n",
      "Epoch: 7\n",
      "---------\n",
      "Train loss: 1.89021 | Train accuracy: 44.51\n",
      "Test loss: 1.97760 | Test accuracy: 42.94\n",
      "\n",
      "Epoch: 8\n",
      "---------\n",
      "Train loss: 1.87927 | Train accuracy: 44.59\n",
      "Test loss: 1.99405 | Test accuracy: 42.27\n",
      "\n",
      "Epoch: 9\n",
      "---------\n",
      "Train loss: 1.89370 | Train accuracy: 44.71\n",
      "Test loss: 1.99626 | Test accuracy: 42.49\n",
      "\n",
      "Epoch: 10\n",
      "---------\n",
      "Train loss: 1.88222 | Train accuracy: 45.03\n",
      "Test loss: 1.98444 | Test accuracy: 42.14\n",
      "\n",
      "Epoch: 11\n",
      "---------\n",
      "Train loss: 1.88739 | Train accuracy: 44.71\n",
      "Test loss: 1.98751 | Test accuracy: 41.76\n",
      "\n",
      "Epoch: 12\n",
      "---------\n",
      "Train loss: 1.90402 | Train accuracy: 44.46\n",
      "Test loss: 1.99549 | Test accuracy: 42.83\n",
      "\n",
      "Epoch: 13\n",
      "---------\n",
      "Train loss: 1.88371 | Train accuracy: 45.05\n",
      "Test loss: 1.98791 | Test accuracy: 42.87\n",
      "\n",
      "Epoch: 14\n",
      "---------\n",
      "Train loss: 1.90262 | Train accuracy: 44.22\n",
      "Test loss: 1.97301 | Test accuracy: 43.33\n",
      "\n",
      "Epoch: 15\n",
      "---------\n",
      "Train loss: 1.89601 | Train accuracy: 44.34\n",
      "Test loss: 1.99067 | Test accuracy: 42.13\n",
      "\n",
      "Epoch: 16\n",
      "---------\n",
      "Train loss: 1.88772 | Train accuracy: 45.08\n",
      "Test loss: 1.97876 | Test accuracy: 42.83\n",
      "\n",
      "Epoch: 17\n",
      "---------\n",
      "Train loss: 1.88537 | Train accuracy: 45.11\n",
      "Test loss: 1.97321 | Test accuracy: 42.19\n",
      "\n",
      "Epoch: 18\n",
      "---------\n",
      "Train loss: 1.89758 | Train accuracy: 44.72\n",
      "Test loss: 1.99137 | Test accuracy: 42.17\n",
      "\n",
      "Epoch: 19\n",
      "---------\n",
      "Train loss: 1.88736 | Train accuracy: 44.93\n",
      "Test loss: 1.99511 | Test accuracy: 43.57\n",
      "\n",
      "Epoch: 20\n",
      "---------\n",
      "Train loss: 1.88772 | Train accuracy: 44.77\n",
      "Test loss: 1.97528 | Test accuracy: 42.71\n",
      "\n",
      "Epoch: 21\n",
      "---------\n",
      "Train loss: 1.89851 | Train accuracy: 44.57\n",
      "Test loss: 1.98668 | Test accuracy: 41.51\n",
      "\n",
      "Epoch: 22\n",
      "---------\n",
      "Train loss: 1.88394 | Train accuracy: 44.82\n",
      "Test loss: 1.98476 | Test accuracy: 42.03\n",
      "\n",
      "Epoch: 23\n",
      "---------\n",
      "Train loss: 1.89289 | Train accuracy: 44.63\n",
      "Test loss: 1.98281 | Test accuracy: 41.78\n",
      "\n",
      "Epoch: 24\n",
      "---------\n",
      "Train loss: 1.88464 | Train accuracy: 45.25\n",
      "Test loss: 1.98854 | Test accuracy: 42.03\n",
      "\n",
      "Epoch: 25\n",
      "---------\n",
      "Train loss: 1.88209 | Train accuracy: 44.98\n",
      "Test loss: 1.97268 | Test accuracy: 42.86\n",
      "\n",
      "Epoch: 26\n",
      "---------\n",
      "Train loss: 1.88563 | Train accuracy: 44.95\n",
      "Test loss: 2.00891 | Test accuracy: 41.63\n",
      "\n",
      "Epoch: 27\n",
      "---------\n",
      "Train loss: 1.88660 | Train accuracy: 45.60\n",
      "Test loss: 1.99589 | Test accuracy: 41.56\n",
      "\n",
      "Epoch: 28\n",
      "---------\n",
      "Train loss: 1.88687 | Train accuracy: 44.70\n",
      "Test loss: 2.01213 | Test accuracy: 42.38\n",
      "\n",
      "Epoch: 29\n",
      "---------\n",
      "Train loss: 1.89826 | Train accuracy: 44.64\n",
      "Test loss: 1.99130 | Test accuracy: 41.91\n",
      "\n",
      "Epoch: 30\n",
      "---------\n",
      "Train loss: 1.89114 | Train accuracy: 45.16\n",
      "Test loss: 1.97687 | Test accuracy: 43.65\n",
      "\n",
      "Epoch: 31\n",
      "---------\n",
      "Train loss: 1.88564 | Train accuracy: 45.12\n",
      "Test loss: 1.99128 | Test accuracy: 43.27\n",
      "\n",
      "Epoch: 32\n",
      "---------\n",
      "Train loss: 1.88899 | Train accuracy: 44.75\n",
      "Test loss: 1.97897 | Test accuracy: 43.05\n",
      "\n",
      "Epoch: 33\n",
      "---------\n",
      "Train loss: 1.88772 | Train accuracy: 45.04\n",
      "Test loss: 1.97342 | Test accuracy: 42.95\n",
      "\n",
      "Epoch: 34\n",
      "---------\n",
      "Train loss: 1.88448 | Train accuracy: 44.80\n",
      "Test loss: 1.98920 | Test accuracy: 42.83\n",
      "\n",
      "Epoch: 35\n",
      "---------\n",
      "Train loss: 1.89078 | Train accuracy: 45.15\n",
      "Test loss: 1.96889 | Test accuracy: 43.01\n",
      "\n",
      "Epoch: 36\n",
      "---------\n",
      "Train loss: 1.89131 | Train accuracy: 44.73\n",
      "Test loss: 1.98315 | Test accuracy: 42.60\n",
      "\n",
      "Epoch: 37\n",
      "---------\n",
      "Train loss: 1.88354 | Train accuracy: 44.51\n",
      "Test loss: 2.00042 | Test accuracy: 42.30\n",
      "\n",
      "Epoch: 38\n",
      "---------\n",
      "Train loss: 1.88951 | Train accuracy: 45.30\n",
      "Test loss: 1.97080 | Test accuracy: 42.65\n",
      "\n",
      "Epoch: 39\n",
      "---------\n",
      "Train loss: 1.88345 | Train accuracy: 44.69\n",
      "Test loss: 1.97734 | Test accuracy: 43.06\n",
      "\n",
      "Epoch: 40\n",
      "---------\n",
      "Train loss: 1.88391 | Train accuracy: 45.53\n",
      "Test loss: 2.00191 | Test accuracy: 42.73\n",
      "\n",
      "Epoch: 41\n",
      "---------\n",
      "Train loss: 1.88408 | Train accuracy: 44.88\n",
      "Test loss: 1.98365 | Test accuracy: 42.22\n",
      "\n",
      "Epoch: 42\n",
      "---------\n",
      "Train loss: 1.88430 | Train accuracy: 44.69\n",
      "Test loss: 1.98231 | Test accuracy: 42.46\n",
      "\n",
      "Epoch: 43\n",
      "---------\n",
      "Train loss: 1.88773 | Train accuracy: 44.49\n",
      "Test loss: 2.00105 | Test accuracy: 41.54\n",
      "\n",
      "Epoch: 44\n",
      "---------\n",
      "Train loss: 1.87867 | Train accuracy: 44.75\n",
      "Test loss: 1.98838 | Test accuracy: 42.82\n",
      "\n",
      "Epoch: 45\n",
      "---------\n",
      "Train loss: 1.88554 | Train accuracy: 44.48\n",
      "Test loss: 1.97368 | Test accuracy: 42.79\n",
      "\n",
      "Epoch: 46\n",
      "---------\n",
      "Train loss: 1.87887 | Train accuracy: 44.89\n",
      "Test loss: 1.98796 | Test accuracy: 43.75\n",
      "\n",
      "Epoch: 47\n",
      "---------\n",
      "Train loss: 1.89159 | Train accuracy: 44.55\n",
      "Test loss: 1.98942 | Test accuracy: 41.99\n",
      "\n",
      "Epoch: 48\n",
      "---------\n",
      "Train loss: 1.87953 | Train accuracy: 45.64\n",
      "Test loss: 2.00289 | Test accuracy: 42.27\n",
      "\n",
      "Epoch: 49\n",
      "---------\n",
      "Train loss: 1.88643 | Train accuracy: 44.92\n",
      "Test loss: 1.98591 | Test accuracy: 42.65\n",
      "\n"
     ]
    }
   ],
   "source": [
    "# Your code here!\n",
    "optimizer = torch.optim.SGD(params=model_3.parameters(), \n",
    "                             lr=0.001)\n",
    "\n",
    "epochs = 50\n",
    "for epoch in (range(epochs)):\n",
    "    print(f\"Epoch: {epoch}\\n---------\")\n",
    "    train_step(data_loader=train_loader, \n",
    "        model=model_3, \n",
    "        loss_fn=loss_fn,\n",
    "        optimizer=optimizer,\n",
    "        accuracy_fn=accuracy_fn\n",
    "    )\n",
    "    test_step(data_loader=test_val_loader,\n",
    "        model=model_3,\n",
    "        loss_fn=loss_fn,\n",
    "        accuracy_fn=accuracy_fn\n",
    "    )"
   ]
  },
  {
   "cell_type": "code",
   "execution_count": 188,
   "metadata": {
    "colab": {
     "base_uri": "https://localhost:8080/"
    },
    "id": "ecKMAMjWS4fq",
    "outputId": "89534f99-f6e1-4043-dbe2-13facc784f47"
   },
   "outputs": [
    {
     "name": "stdout",
     "output_type": "stream",
     "text": [
      "Train loss: 1.88966 | Train accuracy: 44.96\n",
      "Test loss: 1.97378 | Test accuracy: 42.68\n",
      "\n",
      "Train loss: 1.87892 | Train accuracy: 45.46\n",
      "Test loss: 1.99710 | Test accuracy: 41.68\n",
      "\n",
      "Train loss: 1.87803 | Train accuracy: 45.21\n",
      "Test loss: 1.96900 | Test accuracy: 43.35\n",
      "\n",
      "Train loss: 1.88761 | Train accuracy: 44.86\n",
      "Test loss: 1.97842 | Test accuracy: 43.12\n",
      "\n",
      "Train loss: 1.88743 | Train accuracy: 44.95\n",
      "Test loss: 1.97419 | Test accuracy: 43.01\n",
      "\n",
      "Train loss: 1.87548 | Train accuracy: 45.32\n",
      "Test loss: 1.99643 | Test accuracy: 42.34\n",
      "\n",
      "Train loss: 1.87695 | Train accuracy: 45.42\n",
      "Test loss: 1.96090 | Test accuracy: 43.87\n",
      "\n",
      "Train loss: 1.88820 | Train accuracy: 45.13\n",
      "Test loss: 2.00227 | Test accuracy: 41.89\n",
      "\n",
      "Train loss: 1.89765 | Train accuracy: 44.51\n",
      "Test loss: 1.98032 | Test accuracy: 42.97\n",
      "\n",
      "Train loss: 1.88323 | Train accuracy: 44.58\n",
      "Test loss: 1.97915 | Test accuracy: 42.87\n",
      "\n",
      "Train loss: 1.88469 | Train accuracy: 44.60\n",
      "Test loss: 1.98804 | Test accuracy: 42.13\n",
      "\n",
      "Train loss: 1.87665 | Train accuracy: 45.32\n",
      "Test loss: 1.98014 | Test accuracy: 42.89\n",
      "\n",
      "Train loss: 1.87817 | Train accuracy: 45.18\n",
      "Test loss: 1.97391 | Test accuracy: 43.16\n",
      "\n",
      "Train loss: 1.88423 | Train accuracy: 44.74\n",
      "Test loss: 1.98042 | Test accuracy: 42.52\n",
      "\n",
      "Train loss: 1.88446 | Train accuracy: 44.68\n",
      "Test loss: 2.00593 | Test accuracy: 41.42\n",
      "\n",
      "Train loss: 1.87243 | Train accuracy: 45.03\n",
      "Test loss: 1.97725 | Test accuracy: 42.98\n",
      "\n",
      "Train loss: 1.87682 | Train accuracy: 45.27\n",
      "Test loss: 1.96021 | Test accuracy: 43.54\n",
      "\n",
      "Train loss: 1.87601 | Train accuracy: 45.44\n",
      "Test loss: 1.95882 | Test accuracy: 43.49\n",
      "\n",
      "Train loss: 1.88112 | Train accuracy: 44.95\n",
      "Test loss: 1.96240 | Test accuracy: 42.89\n",
      "\n",
      "Train loss: 1.89174 | Train accuracy: 44.54\n",
      "Test loss: 1.96752 | Test accuracy: 44.22\n",
      "\n"
     ]
    }
   ],
   "source": [
    "import tqdm\n",
    "results={\"train_loss\": [],\n",
    "        \"train_acc\": [],\n",
    "        \"test_loss\": [],\n",
    "        \"test_acc\": [],\n",
    "        \"Epoch\":[],\n",
    "    }\n",
    "    \n",
    "epochs =20\n",
    "    # 3. Loop through training and testing steps for a number of epochs\n",
    "for epoch in range(epochs):\n",
    "  train_loss, train_acc = train_step(model=model_3,\n",
    "                                           data_loader=train_loader,\n",
    "                                           loss_fn=loss_fn,\n",
    "                                           optimizer=optimizer,\n",
    "                                           accuracy_fn= accuracy_fn)\n",
    "  test_loss, test_acc = test_step(model=model_3,\n",
    "            data_loader=test_val_loader,\n",
    "            loss_fn=loss_fn,\n",
    "            accuracy_fn = accuracy_fn)\n",
    "        \n",
    "     \n",
    "        # 5. Update results dictionary\n",
    "  results[\"train_loss\"].append(train_loss)\n",
    "  results[\"train_acc\"].append(train_acc)\n",
    "  results[\"test_loss\"].append(test_loss)\n",
    "  results[\"test_acc\"].append(test_acc)\n",
    "  results[\"Epoch\"].append(epoch)"
   ]
  },
  {
   "cell_type": "code",
   "execution_count": 183,
   "metadata": {
    "colab": {
     "base_uri": "https://localhost:8080/",
     "height": 458
    },
    "id": "0_aLXirATORb",
    "outputId": "c5e3e5fe-df20-48de-b0d0-015171c56ac4"
   },
   "outputs": [
    {
     "data": {
      "image/png": "[encoded data removed]",
      "text/plain": [
       "<Figure size 1080x504 with 2 Axes>"
      ]
     },
     "metadata": {
      "needs_background": "light"
     },
     "output_type": "display_data"
    }
   ],
   "source": [
    "# Your graph\n",
    "# Your graph\n",
    "li={\"train_loss\": [],\n",
    "      \"test_loss\": [],  \n",
    "    }\n",
    "for i in results[\"train_loss\"]:\n",
    "  li[\"train_loss\"].append(i.cpu().detach())\n",
    " \n",
    "\n",
    "for i in results[\"test_loss\"]:\n",
    "  li[\"test_loss\"].append(i.cpu())\n",
    "\n",
    "\n",
    "import numpy as np\n",
    "plt.figure(figsize=(15, 7))\n",
    "\n",
    "    # Plot loss\n",
    "plt.subplot(1, 2, 1)\n",
    "plt.plot(results[\"Epoch\"],li[\"train_loss\"], label='train_loss')\n",
    "plt.plot(results[\"Epoch\"], li[\"test_loss\"], label='test_loss')\n",
    "plt.title('Loss for lr = 0.01')\n",
    "plt.xlabel('Epochs')\n",
    "plt.legend()\n",
    "\n",
    "    # Plot accuracy\n",
    "plt.subplot(1, 2, 2)\n",
    "plt.plot(results[\"Epoch\"], results[\"train_acc\"], label='train_accuracy')\n",
    "plt.plot(results[\"Epoch\"], results[\"test_acc\"], label='test_accuracy')\n",
    "plt.title('Accuracy For lr=0.01')\n",
    "plt.xlabel('Epochs')\n",
    "plt.legend();"
   ]
  },
  {
   "cell_type": "code",
   "execution_count": 186,
   "metadata": {
    "colab": {
     "base_uri": "https://localhost:8080/",
     "height": 458
    },
    "id": "3fQZc3eAWP5k",
    "outputId": "41d07c1c-3a56-4e10-ea81-56c11868af56"
   },
   "outputs": [
    {
     "data": {
      "image/png": "[encoded data removed]",
      "text/plain": [
       "<Figure size 1080x504 with 2 Axes>"
      ]
     },
     "metadata": {
      "needs_background": "light"
     },
     "output_type": "display_data"
    }
   ],
   "source": [
    "# Your graph\n",
    "# Your graph\n",
    "li={\"train_loss\": [],\n",
    "      \"test_loss\": [],  \n",
    "    }\n",
    "for i in results[\"train_loss\"]:\n",
    "  li[\"train_loss\"].append(i.cpu().detach())\n",
    " \n",
    "\n",
    "for i in results[\"test_loss\"]:\n",
    "  li[\"test_loss\"].append(i.cpu())\n",
    "\n",
    "\n",
    "import numpy as np\n",
    "plt.figure(figsize=(15, 7))\n",
    "\n",
    "    # Plot loss\n",
    "plt.subplot(1, 2, 1)\n",
    "plt.plot(results[\"Epoch\"],li[\"train_loss\"], label='train_loss')\n",
    "plt.plot(results[\"Epoch\"], li[\"test_loss\"], label='test_loss')\n",
    "plt.title('Loss for lr = 0.01')\n",
    "plt.xlabel('Epochs')\n",
    "plt.legend()\n",
    "\n",
    "    # Plot accuracy\n",
    "plt.subplot(1, 2, 2)\n",
    "plt.plot(results[\"Epoch\"], results[\"train_acc\"], label='train_accuracy')\n",
    "plt.plot(results[\"Epoch\"], results[\"test_acc\"], label='test_accuracy')\n",
    "plt.title('Accuracy For lr=0.01')\n",
    "plt.xlabel('Epochs')\n",
    "plt.legend();"
   ]
  },
  {
   "cell_type": "code",
   "execution_count": 189,
   "metadata": {
    "colab": {
     "base_uri": "https://localhost:8080/",
     "height": 458
    },
    "id": "XuyDRiQdIyRb",
    "outputId": "310db16c-9d43-410b-83c5-0ee256e84cb0"
   },
   "outputs": [
    {
     "data": {
      "image/png": "[encoded data removed]",
      "text/plain": [
       "<Figure size 1080x504 with 2 Axes>"
      ]
     },
     "metadata": {
      "needs_background": "light"
     },
     "output_type": "display_data"
    }
   ],
   "source": [
    "# Your graph\n",
    "# Your graph\n",
    "# Your graph\n",
    "li={\"train_loss\": [],\n",
    "      \"test_loss\": [],  \n",
    "    }\n",
    "for i in results[\"train_loss\"]:\n",
    "  li[\"train_loss\"].append(i.cpu().detach())\n",
    " \n",
    "\n",
    "for i in results[\"test_loss\"]:\n",
    "  li[\"test_loss\"].append(i.cpu())\n",
    "\n",
    "\n",
    "import numpy as np\n",
    "plt.figure(figsize=(15, 7))\n",
    "\n",
    "    # Plot loss\n",
    "plt.subplot(1, 2, 1)\n",
    "plt.plot(results[\"Epoch\"],li[\"train_loss\"], label='train_loss')\n",
    "plt.plot(results[\"Epoch\"], li[\"test_loss\"], label='test_loss')\n",
    "plt.title('Loss for lr = 0.001')\n",
    "plt.xlabel('Epochs')\n",
    "plt.legend()\n",
    "\n",
    "    # Plot accuracy\n",
    "plt.subplot(1, 2, 2)\n",
    "plt.plot(results[\"Epoch\"], results[\"train_acc\"], label='train_accuracy')\n",
    "plt.plot(results[\"Epoch\"], results[\"test_acc\"], label='test_accuracy')\n",
    "plt.title('Accuracy For lr=0.001')\n",
    "plt.xlabel('Epochs')\n",
    "plt.legend();"
   ]
  },
  {
   "cell_type": "markdown",
   "metadata": {
    "id": "EiE09ZetIyRb"
   },
   "source": [
    "### 3 Model testing "
   ]
  },
  {
   "cell_type": "markdown",
   "metadata": {
    "id": "tXI0YyGSIyRb"
   },
   "source": [
    "\n",
    "#### 3.1 Test class and predictions"
   ]
  },
  {
   "cell_type": "code",
   "execution_count": 23,
   "metadata": {
    "id": "b2TqNmzKIyRb"
   },
   "outputs": [],
   "source": [
    "# Your code here!\n",
    "def predict_images(model, input_dir, output_file, batch_size=32, num_workers=2):\n",
    "    # Set model to evaluation mode\n",
    "    model.eval()\n",
    "    model.cpu()\n",
    "    \n",
    "\n",
    "    # Define transformations for the input images\n",
    "    transform = transforms.Compose([\n",
    "        transforms.Grayscale(num_output_channels=3),\n",
    "        transforms.ToTensor(),\n",
    "        \n",
    "    ])\n",
    "\n",
    "\n",
    "    # Load the image files from the input directory\n",
    "    file_names = os.listdir(input_dir)\n",
    "    image_paths = [os.path.join(input_dir, file_name) for file_name in file_names]\n",
    "\n",
    "    # Open a CSV file for output\n",
    "    with open(output_file, 'w', newline='') as csvfile:\n",
    "        writer = csv.writer(csvfile)\n",
    "        writer.writerow(['Id', 'Category'])\n",
    "\n",
    "        # Iterate over the image paths and process them in batches\n",
    "        for i in range(0, len(image_paths), batch_size):\n",
    "            batch_paths = image_paths[i:i+batch_size]\n",
    "\n",
    "            # Load the images in the batch and apply transformations\n",
    "            batch_images = []\n",
    "            for path in batch_paths:\n",
    "                image = Image.open(path)\n",
    "                image = transform(image)\n",
    "                batch_images.append(image)\n",
    "            batch_images = torch.stack(batch_images)\n",
    "\n",
    "            # Pass the batch through the model for prediction\n",
    "            with torch.no_grad():\n",
    "                outputs = model(batch_images)\n",
    "\n",
    "            # Get the predicted classes and write them to the CSV file\n",
    "            _, predictions = torch.max(outputs, dim=1)\n",
    "            for j, prediction in enumerate(predictions):\n",
    "                writer.writerow([file_names[i+j], prediction.item()])\n"
   ]
  },
  {
   "cell_type": "code",
   "execution_count": null,
   "metadata": {
    "id": "tBKSu9R1IyRc"
   },
   "outputs": [],
   "source": [
    "# Your code here! \n",
    "predict_images(model_3,testing_set,'/content/drive/MyDrive/sc22msb.csv' )"
   ]
  },
  {
   "cell_type": "markdown",
   "metadata": {
    "id": "hC7HMNrkIyRc"
   },
   "source": [
    "\n",
    "### 4 Model Fine-tuning/transfer learning on CIFAR10 dataset"
   ]
  },
  {
   "cell_type": "code",
   "execution_count": null,
   "metadata": {
    "colab": {
     "base_uri": "https://localhost:8080/",
     "height": 449
    },
    "id": "gPU8UDYMIyRc",
    "outputId": "f192075c-1e8d-4fb0-ca3b-735438018c1d"
   },
   "outputs": [],
   "source": [
    "\n",
    "\n",
    "#without freezing layers\n",
    "\n",
    "import torch\n",
    "import torch.nn as nn\n",
    "import torchvision\n",
    "import torchvision.transforms as transforms\n",
    "from torchsummary import summary\n",
    "\n",
    "\n",
    "\n",
    "transform_train = transforms.Compose([\n",
    "    transforms.ToTensor(),\n",
    "    transforms.Resize((227,227))\n",
    "])\n",
    "transform_test = transforms.Compose([\n",
    "    transforms.ToTensor(),\n",
    "    transforms.Resize((227,227))\n",
    "])\n",
    "\n",
    "# Load CIFAR10 dataset\n",
    "trainset = torchvision.datasets.CIFAR10(root='./data', train=True, download=True, transform=transform_train)\n",
    "testset = torchvision.datasets.CIFAR10(root='./data', train=False, download=True, transform=transform_test)\n",
    "\n",
    "# Define dataloaders\n",
    "trainloader = torch.utils.data.DataLoader(trainset, batch_size=128, shuffle=True, num_workers=2)\n",
    "testloader = torch.utils.data.DataLoader(testset, batch_size=128, shuffle=False, num_workers=2)\n",
    "\n",
    "\n",
    "alexnet = torchvision.models.alexnet(pretrained=True)\n",
    "\n",
    "\n",
    "alexnet.classifier[6] = nn.Linear(4096, 10)\n",
    "\n",
    "\n",
    "criterion = nn.CrossEntropyLoss()\n",
    "optimizer = torch.optim.SGD(alexnet.parameters(), lr=0.001, momentum=0.9)\n",
    "\n",
    "# Train the model\n",
    "alexnet.cuda()\n",
    "for epoch in range(10):\n",
    "    running_loss = 0.0\n",
    "    for i, (inputs, labels) in enumerate(trainloader):\n",
    "        inputs, labels = inputs.cuda(), labels.cuda()\n",
    "        optimizer.zero_grad()\n",
    "        outputs = alexnet(inputs)\n",
    "        loss = criterion(outputs, labels)\n",
    "        loss.backward()\n",
    "        optimizer.step()\n",
    "        running_loss += loss.item()\n",
    "        if i % 100 == 99:\n",
    "            print('[%d, %5d] loss: %.3f' % (epoch + 1, i + 1, running_loss / 100))\n",
    "            running_loss = 0.0\n",
    "\n",
    "# Test the model\n",
    "alexnet.eval()\n",
    "correct = 0\n",
    "total = 0\n",
    "with torch.no_grad():\n",
    "    for data in testloader:\n",
    "        images, labels = data\n",
    "        images, labels = images.cuda(), labels.cuda()\n",
    "        outputs = alexnet(images)\n",
    "        _, predicted = torch.max(outputs.data, 1)\n",
    "        total += labels.size(0)\n",
    "        correct += (predicted == labels).sum().item()\n",
    "\n",
    "print('Accuracy of the network on the 10000 test images: %d %%' % (100 * correct / total))\n"
   ]
  },
  {
   "cell_type": "markdown",
   "metadata": {
    "id": "et1iQPXbIyRc"
   },
   "source": [
    "#### 4.2 Fine-tuning model with frozen layers\n",
    "\n",
    "> Configuration 2: Frozen base convolution blocks"
   ]
  },
  {
   "cell_type": "code",
   "execution_count": null,
   "metadata": {
    "colab": {
     "base_uri": "https://localhost:8080/",
     "height": 415
    },
    "id": "32cYxCuAIyRc",
    "outputId": "31b7069c-88f1-49f3-cd2f-722160595d84"
   },
   "outputs": [],
   "source": [
    "\n",
    "import torch\n",
    "import torch.nn as nn\n",
    "import torchvision\n",
    "import torchvision.transforms as transforms\n",
    "\n",
    "\n",
    "transform_train = transforms.Compose([\n",
    "    transforms.ToTensor(),\n",
    "    transforms.Resize((227,227))\n",
    "])\n",
    "transform_test = transforms.Compose([\n",
    "    transforms.ToTensor(),\n",
    "    transforms.Resize((227,227))\n",
    "])\n",
    "\n",
    "# Load CIFAR10 dataset\n",
    "trainset = torchvision.datasets.CIFAR10(root='./data', train=True, download=True, transform=transform_train)\n",
    "testset = torchvision.datasets.CIFAR10(root='./data', train=False, download=True, transform=transform_test)\n",
    "\n",
    "\n",
    "trainloader = torch.utils.data.DataLoader(trainset, batch_size=128, shuffle=True, num_workers=2)\n",
    "testloader = torch.utils.data.DataLoader(testset, batch_size=128, shuffle=False, num_workers=2)\n",
    "\n",
    "# Load pre-trained AlexNet model\n",
    "alexnet = torchvision.models.alexnet(pretrained=True)\n",
    "\n",
    "\n",
    "for param in alexnet.parameters():\n",
    "    param.requires_grad = False\n",
    "alexnet.classifier[6] = nn.Linear(4096, 512)\n",
    "alexnet.classifier.add_module('7', nn.ReLU(inplace=True))\n",
    "alexnet.classifier.add_module('8', nn.Dropout())\n",
    "alexnet.classifier.add_module('9', nn.Linear(512, 10))\n",
    "alexnet.classifier.add_module('10', nn.LogSoftmax(dim=1))\n",
    "\n",
    "# Define loss function and optimizer\n",
    "criterion = nn.NLLLoss()\n",
    "optimizer = torch.optim.SGD(filter(lambda p: p.requires_grad, alexnet.parameters()), lr=0.001, momentum=0.9)\n",
    "\n",
    "# Train the model\n",
    "alexnet.cuda()\n",
    "for epoch in range(100):\n",
    "    running_loss = 0.0\n",
    "    for i, (inputs, labels) in enumerate(trainloader):\n",
    "        inputs, labels = inputs.cuda(), labels.cuda()\n",
    "        optimizer.zero_grad()\n",
    "        outputs = alexnet(inputs)\n",
    "        loss = criterion(outputs, labels)\n",
    "        loss.backward()\n",
    "        optimizer.step()\n",
    "        running_loss += loss.item()\n",
    "        if i % 100 == 99:\n",
    "            print('[%d, %5d] loss: %.3f' % (epoch + 1, i + 1, running_loss / 100))\n",
    "            running_loss = 0.0\n",
    "\n",
    "# Test the model\n",
    "alexnet.eval()\n",
    "correct = 0\n",
    "total = 0\n",
    "with torch.no_grad():\n",
    "    for data in testloader:\n",
    "        images, labels = data\n",
    "        images, labels = images.cuda(), labels.cuda()\n",
    "        outputs = alexnet(images)\n",
    "        _, predicted = torch.max(outputs.data, 1)\n",
    "        total += labels.size(0)\n",
    "        correct += (predicted == labels).sum().item()\n",
    "\n",
    "print('Accuracy on the 10000 test images: %d %%' % (100 * correct / total))\n"
   ]
  },
  {
   "cell_type": "markdown",
   "metadata": {
    "id": "VCT7GBw9IyRd"
   },
   "source": [
    "#### 5.1 Finetune AlexNet on TinyImageNet30\n",
    "> Load AlexNet as you did above\n",
    "\n",
    "> Train AlexNet on TinyImageNet30 dataset until convergence. Make sure you use the same dataset"
   ]
  },
  {
   "cell_type": "code",
   "execution_count": null,
   "metadata": {
    "colab": {
     "base_uri": "https://localhost:8080/",
     "height": 415
    },
    "id": "HDkanjYxIyRd",
    "outputId": "3f8be6b7-2f4e-482d-8d24-c62b9f71d5b1"
   },
   "outputs": [],
   "source": [
    "# Your code here! \n",
    "# Test the mode\n",
    "\n",
    "\n",
    "import torch\n",
    "import torch.nn as nn\n",
    "import torchvision\n",
    "import torchvision.transforms as transforms\n",
    "\n",
    "# Define transforms for data augmentation and normalization\n",
    "transform_train = transforms.Compose([\n",
    "    transforms.ToTensor(),\n",
    "    transforms.Resize((227,227))\n",
    "])\n",
    "transform_test = transforms.Compose([\n",
    "    transforms.ToTensor(),\n",
    "    transforms.Resize((227,227))\n",
    "])\n",
    "\n",
    "\n",
    "\n",
    "# Define dataloaders\n",
    "train_loader = torch.utils.data.DataLoader(trainset, batch_size=128, shuffle=True, num_workers=2)\n",
    "test_val_loader = torch.utils.data.DataLoader(testset, batch_size=128, shuffle=False, num_workers=2)\n",
    "\n",
    "# Load pre-trained AlexNet model\n",
    "alexnet = torchvision.models.alexnet(pretrained=True)\n",
    "\n",
    "# Freeze all layers except for the last two fully connected layers\n",
    "for param in alexnet.parameters():\n",
    "    param.requires_grad = False\n",
    "alexnet.classifier[6] = nn.Linear(4096, 512)\n",
    "alexnet.classifier.add_module('7', nn.ReLU(inplace=True))\n",
    "alexnet.classifier.add_module('8', nn.Dropout())\n",
    "alexnet.classifier.add_module('9', nn.Linear(512, 10))\n",
    "alexnet.classifier.add_module('10', nn.LogSoftmax(dim=1))\n",
    "\n",
    "# Define loss function and optimizer\n",
    "criterion = nn.CrossEntropyLoss()\n",
    "optimizer = torch.optim.SGD(filter(lambda p: p.requires_grad, alexnet.parameters()), lr=0.001, momentum=0.9)\n",
    "\n",
    "# Train the model\n",
    "alexnet.cuda()\n",
    "for epoch in range(50):\n",
    "    running_loss = 0.0\n",
    "    for i, (inputs, labels) in enumerate(train_loader):\n",
    "        inputs, labels = inputs.cuda(), labels.cuda()\n",
    "        optimizer.zero_grad()\n",
    "        outputs = alexnet(inputs)\n",
    "        loss = criterion(outputs, labels)\n",
    "        loss.backward()\n",
    "        optimizer.step()\n",
    "        running_loss += loss.item()\n",
    "        if i % 100 == 99:\n",
    "            print('[%d, %5d] loss: %.3f' % (epoch + 1, i + 1, running_loss / 100))\n",
    "            running_loss = 0.0\n",
    "\n",
    "# Test the model\n",
    "alexnet.eval()\n",
    "correct = 0\n",
    "total = 0\n",
    "with torch.no_grad():\n",
    "    for data in test_val_loader:\n",
    "        images, labels = data\n",
    "        images, labels = images.cuda(), labels.cuda()\n",
    "        outputs = alexnet(images)\n",
    "        _, predicted = torch.max(outputs.data, 1)\n",
    "        total += labels.size(0)\n",
    "        correct += (predicted == labels).sum().item()\n",
    "\n",
    "print('Accuracy of the network on the 10000 test images: %d %%' % (100 * correct / total))\n"
   ]
  }
 ],
 "metadata": {
  "accelerator": "GPU",
  "colab": {
   "machine_shape": "hm",
   "provenance": []
  },
  "gpuClass": "standard",
  "kernelspec": {
   "display_name": "Python 3 (ipykernel)",
   "language": "python",
   "name": "python3"
  },
  "language_info": {
   "codemirror_mode": {
    "name": "ipython",
    "version": 3
   },
   "file_extension": ".py",
   "mimetype": "text/x-python",
   "name": "python",
   "nbconvert_exporter": "python",
   "pygments_lexer": "ipython3",
   "version": "3.9.12"
  },
  "vscode": {
   "interpreter": {
    "hash": "31f2aee4e71d21fbe5cf8b01ff0e069b9275f58929596ceb00d14d90e3e16cd6"
   }
  }
 },
 "nbformat": 4,
 "nbformat_minor": 1
}
